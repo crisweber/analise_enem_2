{
 "cells": [
  {
   "cell_type": "code",
   "execution_count": 2,
   "metadata": {
    "collapsed": true
   },
   "outputs": [],
   "source": [
    "# Pacotes\n",
    "import pandas as pd\n",
    "import numpy as np"
   ]
  },
  {
   "cell_type": "markdown",
   "metadata": {},
   "source": [
    "## 0. Lendo os dados e criando base para análise"
   ]
  },
  {
   "cell_type": "markdown",
   "metadata": {},
   "source": [
    "#### 0.1. Dados do ENEM 2017"
   ]
  },
  {
   "cell_type": "code",
   "execution_count": 3,
   "metadata": {},
   "outputs": [],
   "source": [
    "# Lendo Pickle do ENEM 2017 (este arquivo vem do csv de microdados do Enem 2017, filtrado para mostrar apenas alunos do ensino médio regular)\n",
    "df = pd.read_pickle(\"pickles/df_enem_microdados_2017_pickle\")"
   ]
  },
  {
   "cell_type": "code",
   "execution_count": 5,
   "metadata": {},
   "outputs": [
    {
     "data": {
      "text/plain": [
       "['NU_INSCRICAO',\n",
       " 'NU_ANO',\n",
       " 'CO_MUNICIPIO_RESIDENCIA',\n",
       " 'NO_MUNICIPIO_RESIDENCIA',\n",
       " 'CO_UF_RESIDENCIA',\n",
       " 'SG_UF_RESIDENCIA',\n",
       " 'NU_IDADE',\n",
       " 'TP_SEXO',\n",
       " 'TP_ESTADO_CIVIL',\n",
       " 'TP_COR_RACA',\n",
       " 'TP_NACIONALIDADE',\n",
       " 'CO_MUNICIPIO_NASCIMENTO',\n",
       " 'NO_MUNICIPIO_NASCIMENTO',\n",
       " 'CO_UF_NASCIMENTO',\n",
       " 'SG_UF_NASCIMENTO',\n",
       " 'TP_ST_CONCLUSAO',\n",
       " 'TP_ANO_CONCLUIU',\n",
       " 'TP_ESCOLA',\n",
       " 'TP_ENSINO',\n",
       " 'IN_TREINEIRO',\n",
       " 'CO_ESCOLA',\n",
       " 'CO_MUNICIPIO_ESC',\n",
       " 'NO_MUNICIPIO_ESC',\n",
       " 'CO_UF_ESC',\n",
       " 'SG_UF_ESC',\n",
       " 'TP_DEPENDENCIA_ADM_ESC',\n",
       " 'TP_LOCALIZACAO_ESC',\n",
       " 'TP_SIT_FUNC_ESC',\n",
       " 'IN_BAIXA_VISAO',\n",
       " 'IN_CEGUEIRA',\n",
       " 'IN_SURDEZ',\n",
       " 'IN_DEFICIENCIA_AUDITIVA',\n",
       " 'IN_SURDO_CEGUEIRA',\n",
       " 'IN_DEFICIENCIA_FISICA',\n",
       " 'IN_DEFICIENCIA_MENTAL',\n",
       " 'IN_DEFICIT_ATENCAO',\n",
       " 'IN_DISLEXIA',\n",
       " 'IN_DISCALCULIA',\n",
       " 'IN_AUTISMO',\n",
       " 'IN_VISAO_MONOCULAR',\n",
       " 'IN_OUTRA_DEF',\n",
       " 'IN_GESTANTE',\n",
       " 'IN_LACTANTE',\n",
       " 'IN_IDOSO',\n",
       " 'IN_ESTUDA_CLASSE_HOSPITALAR',\n",
       " 'IN_SEM_RECURSO',\n",
       " 'IN_BRAILLE',\n",
       " 'IN_AMPLIADA_24',\n",
       " 'IN_AMPLIADA_18',\n",
       " 'IN_LEDOR',\n",
       " 'IN_ACESSO',\n",
       " 'IN_TRANSCRICAO',\n",
       " 'IN_LIBRAS',\n",
       " 'IN_LEITURA_LABIAL',\n",
       " 'IN_MESA_CADEIRA_RODAS',\n",
       " 'IN_MESA_CADEIRA_SEPARADA',\n",
       " 'IN_APOIO_PERNA',\n",
       " 'IN_GUIA_INTERPRETE',\n",
       " 'IN_COMPUTADOR',\n",
       " 'IN_CADEIRA_ESPECIAL',\n",
       " 'IN_CADEIRA_CANHOTO',\n",
       " 'IN_CADEIRA_ACOLCHOADA',\n",
       " 'IN_PROVA_DEITADO',\n",
       " 'IN_MOBILIARIO_OBESO',\n",
       " 'IN_LAMINA_OVERLAY',\n",
       " 'IN_PROTETOR_AURICULAR',\n",
       " 'IN_MEDIDOR_GLICOSE',\n",
       " 'IN_MAQUINA_BRAILE',\n",
       " 'IN_SOROBAN',\n",
       " 'IN_MARCA_PASSO',\n",
       " 'IN_SONDA',\n",
       " 'IN_MEDICAMENTOS',\n",
       " 'IN_SALA_INDIVIDUAL',\n",
       " 'IN_SALA_ESPECIAL',\n",
       " 'IN_SALA_ACOMPANHANTE',\n",
       " 'IN_MOBILIARIO_ESPECIFICO',\n",
       " 'IN_MATERIAL_ESPECIFICO',\n",
       " 'IN_NOME_SOCIAL',\n",
       " 'CO_MUNICIPIO_PROVA',\n",
       " 'NO_MUNICIPIO_PROVA',\n",
       " 'CO_UF_PROVA',\n",
       " 'SG_UF_PROVA',\n",
       " 'TP_PRESENCA_CN',\n",
       " 'TP_PRESENCA_CH',\n",
       " 'TP_PRESENCA_LC',\n",
       " 'TP_PRESENCA_MT',\n",
       " 'CO_PROVA_CN',\n",
       " 'CO_PROVA_CH',\n",
       " 'CO_PROVA_LC',\n",
       " 'CO_PROVA_MT',\n",
       " 'NU_NOTA_CN',\n",
       " 'NU_NOTA_CH',\n",
       " 'NU_NOTA_LC',\n",
       " 'NU_NOTA_MT',\n",
       " 'TX_RESPOSTAS_CN',\n",
       " 'TX_RESPOSTAS_CH',\n",
       " 'TX_RESPOSTAS_LC',\n",
       " 'TX_RESPOSTAS_MT',\n",
       " 'TP_LINGUA',\n",
       " 'TX_GABARITO_CN',\n",
       " 'TX_GABARITO_CH',\n",
       " 'TX_GABARITO_LC',\n",
       " 'TX_GABARITO_MT',\n",
       " 'TP_STATUS_REDACAO',\n",
       " 'NU_NOTA_COMP1',\n",
       " 'NU_NOTA_COMP2',\n",
       " 'NU_NOTA_COMP3',\n",
       " 'NU_NOTA_COMP4',\n",
       " 'NU_NOTA_COMP5',\n",
       " 'NU_NOTA_REDACAO',\n",
       " 'Q001',\n",
       " 'Q002',\n",
       " 'Q003',\n",
       " 'Q004',\n",
       " 'Q005',\n",
       " 'Q006',\n",
       " 'Q007',\n",
       " 'Q008',\n",
       " 'Q009',\n",
       " 'Q010',\n",
       " 'Q011',\n",
       " 'Q012',\n",
       " 'Q013',\n",
       " 'Q014',\n",
       " 'Q015',\n",
       " 'Q016',\n",
       " 'Q017',\n",
       " 'Q018',\n",
       " 'Q019',\n",
       " 'Q020',\n",
       " 'Q021',\n",
       " 'Q022',\n",
       " 'Q023',\n",
       " 'Q024',\n",
       " 'Q025',\n",
       " 'Q026',\n",
       " 'Q027\\n']"
      ]
     },
     "execution_count": 5,
     "metadata": {},
     "output_type": "execute_result"
    }
   ],
   "source": [
    "list(df)"
   ]
  },
  {
   "cell_type": "code",
   "execution_count": 6,
   "metadata": {},
   "outputs": [
    {
     "data": {
      "text/html": [
       "<div>\n",
       "<style>\n",
       "    .dataframe thead tr:only-child th {\n",
       "        text-align: right;\n",
       "    }\n",
       "\n",
       "    .dataframe thead th {\n",
       "        text-align: left;\n",
       "    }\n",
       "\n",
       "    .dataframe tbody tr th {\n",
       "        vertical-align: top;\n",
       "    }\n",
       "</style>\n",
       "<table border=\"1\" class=\"dataframe\">\n",
       "  <thead>\n",
       "    <tr style=\"text-align: right;\">\n",
       "      <th></th>\n",
       "      <th>TP_ENSINO</th>\n",
       "    </tr>\n",
       "  </thead>\n",
       "  <tbody>\n",
       "    <tr>\n",
       "      <th>0</th>\n",
       "      <td>1</td>\n",
       "    </tr>\n",
       "    <tr>\n",
       "      <th>1</th>\n",
       "      <td>1</td>\n",
       "    </tr>\n",
       "    <tr>\n",
       "      <th>2</th>\n",
       "      <td>1</td>\n",
       "    </tr>\n",
       "    <tr>\n",
       "      <th>3</th>\n",
       "      <td>1</td>\n",
       "    </tr>\n",
       "    <tr>\n",
       "      <th>4</th>\n",
       "      <td>1</td>\n",
       "    </tr>\n",
       "  </tbody>\n",
       "</table>\n",
       "</div>"
      ],
      "text/plain": [
       "  TP_ENSINO\n",
       "0         1\n",
       "1         1\n",
       "2         1\n",
       "3         1\n",
       "4         1"
      ]
     },
     "execution_count": 6,
     "metadata": {},
     "output_type": "execute_result"
    }
   ],
   "source": [
    "df[[\"TP_ENSINO\"]].head()"
   ]
  },
  {
   "cell_type": "code",
   "execution_count": 7,
   "metadata": {
    "scrolled": false
   },
   "outputs": [
    {
     "data": {
      "text/plain": [
       "1583756"
      ]
     },
     "execution_count": 7,
     "metadata": {},
     "output_type": "execute_result"
    }
   ],
   "source": [
    "len(df)"
   ]
  },
  {
   "cell_type": "code",
   "execution_count": 8,
   "metadata": {
    "collapsed": true
   },
   "outputs": [],
   "source": [
    "def sem_nota(x):\n",
    "    if x == '':\n",
    "        y = 1\n",
    "    else:\n",
    "        y = 0\n",
    "    return y"
   ]
  },
  {
   "cell_type": "code",
   "execution_count": 9,
   "metadata": {
    "collapsed": true
   },
   "outputs": [],
   "source": [
    "for i in ['NU_NOTA_CN','NU_NOTA_CH','NU_NOTA_LC','NU_NOTA_MT','NU_NOTA_REDACAO']:\n",
    "    df[i+'_sem_nota'] = df[i].map(sem_nota)"
   ]
  },
  {
   "cell_type": "code",
   "execution_count": 10,
   "metadata": {},
   "outputs": [
    {
     "data": {
      "text/html": [
       "<div>\n",
       "<style>\n",
       "    .dataframe thead tr:only-child th {\n",
       "        text-align: right;\n",
       "    }\n",
       "\n",
       "    .dataframe thead th {\n",
       "        text-align: left;\n",
       "    }\n",
       "\n",
       "    .dataframe tbody tr th {\n",
       "        vertical-align: top;\n",
       "    }\n",
       "</style>\n",
       "<table border=\"1\" class=\"dataframe\">\n",
       "  <thead>\n",
       "    <tr style=\"text-align: right;\">\n",
       "      <th></th>\n",
       "      <th>NU_INSCRICAO</th>\n",
       "      <th>NU_ANO</th>\n",
       "      <th>CO_MUNICIPIO_RESIDENCIA</th>\n",
       "      <th>NO_MUNICIPIO_RESIDENCIA</th>\n",
       "      <th>CO_UF_RESIDENCIA</th>\n",
       "      <th>SG_UF_RESIDENCIA</th>\n",
       "      <th>NU_IDADE</th>\n",
       "      <th>TP_SEXO</th>\n",
       "      <th>TP_ESTADO_CIVIL</th>\n",
       "      <th>TP_COR_RACA</th>\n",
       "      <th>...</th>\n",
       "      <th>Q023</th>\n",
       "      <th>Q024</th>\n",
       "      <th>Q025</th>\n",
       "      <th>Q026</th>\n",
       "      <th>Q027</th>\n",
       "      <th>NU_NOTA_CN_sem_nota</th>\n",
       "      <th>NU_NOTA_CH_sem_nota</th>\n",
       "      <th>NU_NOTA_LC_sem_nota</th>\n",
       "      <th>NU_NOTA_MT_sem_nota</th>\n",
       "      <th>NU_NOTA_REDACAO_sem_nota</th>\n",
       "    </tr>\n",
       "  </thead>\n",
       "  <tbody>\n",
       "    <tr>\n",
       "      <th>0</th>\n",
       "      <td>170001663652</td>\n",
       "      <td>2017</td>\n",
       "      <td>1301902</td>\n",
       "      <td>Itacoatiara</td>\n",
       "      <td>13</td>\n",
       "      <td>AM</td>\n",
       "      <td>17</td>\n",
       "      <td>M</td>\n",
       "      <td>0</td>\n",
       "      <td>3</td>\n",
       "      <td>...</td>\n",
       "      <td>B</td>\n",
       "      <td>E</td>\n",
       "      <td>B</td>\n",
       "      <td>B</td>\n",
       "      <td>B\\n</td>\n",
       "      <td>0</td>\n",
       "      <td>0</td>\n",
       "      <td>0</td>\n",
       "      <td>0</td>\n",
       "      <td>0</td>\n",
       "    </tr>\n",
       "    <tr>\n",
       "      <th>1</th>\n",
       "      <td>170001665543</td>\n",
       "      <td>2017</td>\n",
       "      <td>3550308</td>\n",
       "      <td>São Paulo</td>\n",
       "      <td>35</td>\n",
       "      <td>SP</td>\n",
       "      <td>17</td>\n",
       "      <td>F</td>\n",
       "      <td>0</td>\n",
       "      <td>3</td>\n",
       "      <td>...</td>\n",
       "      <td>B</td>\n",
       "      <td>B</td>\n",
       "      <td>B</td>\n",
       "      <td>B</td>\n",
       "      <td>A\\n</td>\n",
       "      <td>0</td>\n",
       "      <td>0</td>\n",
       "      <td>0</td>\n",
       "      <td>0</td>\n",
       "      <td>0</td>\n",
       "    </tr>\n",
       "    <tr>\n",
       "      <th>2</th>\n",
       "      <td>170001663747</td>\n",
       "      <td>2017</td>\n",
       "      <td>3545803</td>\n",
       "      <td>Santa Bárbara d'Oeste</td>\n",
       "      <td>35</td>\n",
       "      <td>SP</td>\n",
       "      <td>18</td>\n",
       "      <td>F</td>\n",
       "      <td>0</td>\n",
       "      <td>2</td>\n",
       "      <td>...</td>\n",
       "      <td>A</td>\n",
       "      <td>B</td>\n",
       "      <td>B</td>\n",
       "      <td>B</td>\n",
       "      <td>A\\n</td>\n",
       "      <td>0</td>\n",
       "      <td>0</td>\n",
       "      <td>0</td>\n",
       "      <td>0</td>\n",
       "      <td>0</td>\n",
       "    </tr>\n",
       "    <tr>\n",
       "      <th>3</th>\n",
       "      <td>170003333557</td>\n",
       "      <td>2017</td>\n",
       "      <td>2919157</td>\n",
       "      <td>Lapão</td>\n",
       "      <td>29</td>\n",
       "      <td>BA</td>\n",
       "      <td>17</td>\n",
       "      <td>M</td>\n",
       "      <td>0</td>\n",
       "      <td>1</td>\n",
       "      <td>...</td>\n",
       "      <td>A</td>\n",
       "      <td>B</td>\n",
       "      <td>A</td>\n",
       "      <td>B</td>\n",
       "      <td>E\\n</td>\n",
       "      <td>0</td>\n",
       "      <td>0</td>\n",
       "      <td>0</td>\n",
       "      <td>0</td>\n",
       "      <td>0</td>\n",
       "    </tr>\n",
       "    <tr>\n",
       "      <th>4</th>\n",
       "      <td>170001663748</td>\n",
       "      <td>2017</td>\n",
       "      <td>3512902</td>\n",
       "      <td>Cosmorama</td>\n",
       "      <td>35</td>\n",
       "      <td>SP</td>\n",
       "      <td>17</td>\n",
       "      <td>M</td>\n",
       "      <td>0</td>\n",
       "      <td>2</td>\n",
       "      <td>...</td>\n",
       "      <td>A</td>\n",
       "      <td>C</td>\n",
       "      <td>B</td>\n",
       "      <td>B</td>\n",
       "      <td>A\\n</td>\n",
       "      <td>0</td>\n",
       "      <td>0</td>\n",
       "      <td>0</td>\n",
       "      <td>0</td>\n",
       "      <td>0</td>\n",
       "    </tr>\n",
       "  </tbody>\n",
       "</table>\n",
       "<p>5 rows × 142 columns</p>\n",
       "</div>"
      ],
      "text/plain": [
       "   NU_INSCRICAO NU_ANO CO_MUNICIPIO_RESIDENCIA NO_MUNICIPIO_RESIDENCIA  \\\n",
       "0  170001663652   2017                 1301902             Itacoatiara   \n",
       "1  170001665543   2017                 3550308               São Paulo   \n",
       "2  170001663747   2017                 3545803   Santa Bárbara d'Oeste   \n",
       "3  170003333557   2017                 2919157                   Lapão   \n",
       "4  170001663748   2017                 3512902               Cosmorama   \n",
       "\n",
       "  CO_UF_RESIDENCIA SG_UF_RESIDENCIA NU_IDADE TP_SEXO TP_ESTADO_CIVIL  \\\n",
       "0               13               AM       17       M               0   \n",
       "1               35               SP       17       F               0   \n",
       "2               35               SP       18       F               0   \n",
       "3               29               BA       17       M               0   \n",
       "4               35               SP       17       M               0   \n",
       "\n",
       "  TP_COR_RACA           ...            Q023 Q024 Q025 Q026 Q027\\n  \\\n",
       "0           3           ...               B    E    B    B    B\\n   \n",
       "1           3           ...               B    B    B    B    A\\n   \n",
       "2           2           ...               A    B    B    B    A\\n   \n",
       "3           1           ...               A    B    A    B    E\\n   \n",
       "4           2           ...               A    C    B    B    A\\n   \n",
       "\n",
       "  NU_NOTA_CN_sem_nota NU_NOTA_CH_sem_nota NU_NOTA_LC_sem_nota  \\\n",
       "0                   0                   0                   0   \n",
       "1                   0                   0                   0   \n",
       "2                   0                   0                   0   \n",
       "3                   0                   0                   0   \n",
       "4                   0                   0                   0   \n",
       "\n",
       "  NU_NOTA_MT_sem_nota NU_NOTA_REDACAO_sem_nota  \n",
       "0                   0                        0  \n",
       "1                   0                        0  \n",
       "2                   0                        0  \n",
       "3                   0                        0  \n",
       "4                   0                        0  \n",
       "\n",
       "[5 rows x 142 columns]"
      ]
     },
     "execution_count": 10,
     "metadata": {},
     "output_type": "execute_result"
    }
   ],
   "source": [
    "df.head()"
   ]
  },
  {
   "cell_type": "code",
   "execution_count": 11,
   "metadata": {
    "collapsed": true
   },
   "outputs": [],
   "source": [
    "df['qtde_provas_sem_nota'] = df['NU_NOTA_CN_sem_nota'] + df['NU_NOTA_CH_sem_nota'] + df['NU_NOTA_LC_sem_nota'] + df['NU_NOTA_MT_sem_nota'] + df['NU_NOTA_REDACAO_sem_nota']"
   ]
  },
  {
   "cell_type": "code",
   "execution_count": 12,
   "metadata": {},
   "outputs": [
    {
     "data": {
      "text/plain": [
       "5"
      ]
     },
     "execution_count": 12,
     "metadata": {},
     "output_type": "execute_result"
    }
   ],
   "source": [
    "df['qtde_provas_sem_nota'].max()"
   ]
  },
  {
   "cell_type": "code",
   "execution_count": 13,
   "metadata": {
    "collapsed": true
   },
   "outputs": [],
   "source": [
    "df = df[df['qtde_provas_sem_nota'] < 5]"
   ]
  },
  {
   "cell_type": "code",
   "execution_count": 14,
   "metadata": {},
   "outputs": [
    {
     "data": {
      "text/plain": [
       "1346866"
      ]
     },
     "execution_count": 14,
     "metadata": {},
     "output_type": "execute_result"
    }
   ],
   "source": [
    "len(df)"
   ]
  },
  {
   "cell_type": "code",
   "execution_count": 15,
   "metadata": {
    "collapsed": true
   },
   "outputs": [],
   "source": [
    "def to_float(x):\n",
    "    if x == '':\n",
    "        y = 0\n",
    "    else:\n",
    "        y = float(x)\n",
    "    return y"
   ]
  },
  {
   "cell_type": "code",
   "execution_count": 16,
   "metadata": {
    "collapsed": true
   },
   "outputs": [],
   "source": [
    "for i in ['NU_NOTA_CN','NU_NOTA_CH','NU_NOTA_LC','NU_NOTA_MT','NU_NOTA_REDACAO']:\n",
    "    df[i] = df[i].map(to_float)"
   ]
  },
  {
   "cell_type": "code",
   "execution_count": 17,
   "metadata": {
    "collapsed": true
   },
   "outputs": [],
   "source": [
    "df['media_objetivas_aluno'] = df[['NU_NOTA_CN','NU_NOTA_CH','NU_NOTA_LC','NU_NOTA_MT']].mean(axis = 1, numeric_only = True)\n",
    "df['media_geral_aluno'] = df[['NU_NOTA_CN','NU_NOTA_CH','NU_NOTA_LC','NU_NOTA_MT','NU_NOTA_REDACAO']].mean(axis = 1, numeric_only = True)"
   ]
  },
  {
   "cell_type": "code",
   "execution_count": 18,
   "metadata": {
    "collapsed": true
   },
   "outputs": [],
   "source": [
    "def to_float_1(x):\n",
    "    if x == '':\n",
    "        y = 1\n",
    "    else:\n",
    "        y = float(x)\n",
    "    return y"
   ]
  },
  {
   "cell_type": "code",
   "execution_count": 19,
   "metadata": {
    "collapsed": true
   },
   "outputs": [],
   "source": [
    "def classe_renda(x):\n",
    "    if x == '':\n",
    "        y = np.NaN\n",
    "    elif x == 'A':\n",
    "        y = 0\n",
    "    elif x == 'B':\n",
    "        y = 0\n",
    "    elif x == 'C':\n",
    "        y = 937.01\n",
    "    elif x == 'D':\n",
    "        y = 1405.51\n",
    "    elif x == 'E':\n",
    "        y = 1874.01\n",
    "    elif x == 'F':\n",
    "        y = 2342.51\n",
    "    elif x == 'G':\n",
    "        y = 2811.01\n",
    "    elif x == 'H':\n",
    "        y = 3748.01\n",
    "    elif x == 'I':\n",
    "        y = 4685.01\n",
    "    elif x == 'J':\n",
    "        y = 5622.01\n",
    "    elif x == 'K':\n",
    "        y = 6559.01\n",
    "    elif x == 'L':\n",
    "        y = 7496.01\n",
    "    elif x == 'M':\n",
    "        y = 8433.01\n",
    "    elif x == 'N':\n",
    "        y = 9370.01\n",
    "    elif x == 'O':\n",
    "        y = 11244.01\n",
    "    elif x == 'P':\n",
    "        y = 14055.01\n",
    "    else:\n",
    "        y = 18740.00\n",
    "    return y\n"
   ]
  },
  {
   "cell_type": "code",
   "execution_count": 20,
   "metadata": {
    "collapsed": true
   },
   "outputs": [],
   "source": [
    "df['num_pessoas_domicilio'] = df['Q005'].map(to_float_1)"
   ]
  },
  {
   "cell_type": "code",
   "execution_count": 21,
   "metadata": {
    "collapsed": true
   },
   "outputs": [],
   "source": [
    "# Criando variável de faixa de renda familiar de acordo com o piso da classe\n",
    "df['faixa_renda'] = df['Q006'].map(classe_renda)"
   ]
  },
  {
   "cell_type": "code",
   "execution_count": 22,
   "metadata": {
    "collapsed": true
   },
   "outputs": [],
   "source": [
    "df['renda_per_capita'] = df['faixa_renda']/df['num_pessoas_domicilio']"
   ]
  },
  {
   "cell_type": "code",
   "execution_count": 23,
   "metadata": {
    "collapsed": true
   },
   "outputs": [],
   "source": [
    "# Criando dummies que indicam notas acima de 600 ou 700\n",
    "def dummy_600 (x):\n",
    "    if x >= 600:\n",
    "        y = 1\n",
    "    else:\n",
    "        y = 0\n",
    "    return y\n",
    "\n",
    "def dummy_700 (x):\n",
    "    if x >= 700:\n",
    "        y = 1\n",
    "    else:\n",
    "        y = 0\n",
    "    return y\n",
    "\n",
    "df['dummy_600'] = df['media_geral_aluno'].map(dummy_600)\n",
    "df['dummy_700'] = df['media_geral_aluno'].map(dummy_700)"
   ]
  },
  {
   "cell_type": "code",
   "execution_count": 24,
   "metadata": {
    "collapsed": true
   },
   "outputs": [],
   "source": [
    "# Atualizando o pickle dos microdados\n",
    "df.to_pickle('pickles/df_enem_microdados_2017_pickle')"
   ]
  },
  {
   "cell_type": "code",
   "execution_count": 60,
   "metadata": {
    "collapsed": true
   },
   "outputs": [],
   "source": [
    "# Criando base agregada por escola, mostrando a média da nota nas objetivas, a média da renda percapita familiar e o número de estudantes.\n",
    "df_enem_2017_escolas = df.groupby(['CO_ESCOLA','CO_UF_ESC','SG_UF_ESC','TP_DEPENDENCIA_ADM_ESC','TP_LOCALIZACAO_ESC','TP_SIT_FUNC_ESC']).agg({'media_objetivas_aluno': ['mean', 'median'], 'media_geral_aluno': ['mean', 'median'], 'NU_NOTA_MT': ['mean', 'median'], 'NU_NOTA_REDACAO': ['mean', 'median'], 'renda_per_capita': ['mean', 'median'], 'NU_INSCRICAO':['count'], 'dummy_600':['sum'], 'dummy_700':['sum']}).reset_index()"
   ]
  },
  {
   "cell_type": "code",
   "execution_count": 61,
   "metadata": {
    "collapsed": true
   },
   "outputs": [],
   "source": [
    "df_enem_2017_escolas.columns = ['CO_ESCOLA','CO_UF_ESC','SG_UF_ESC','TP_DEPENDENCIA_ADM_ESC','TP_LOCALIZACAO_ESC','TP_SIT_FUNC_ESC','media_objetivas_aluno_media','media_objetivas_aluno_mediana','media_geral_aluno_media','media_geral_aluno_mediana','nota_matematica_media','nota_matematica_mediana','nota_redacao_media','nota_redacao_mediana','renda_per_capita_media','renda_per_capita_mediana','numero_de_alunos_enem', 'num_alunos_acima_600', 'num_alunos_acima_700']"
   ]
  },
  {
   "cell_type": "code",
   "execution_count": 62,
   "metadata": {
    "scrolled": true
   },
   "outputs": [
    {
     "data": {
      "text/plain": [
       "['CO_ESCOLA',\n",
       " 'CO_UF_ESC',\n",
       " 'SG_UF_ESC',\n",
       " 'TP_DEPENDENCIA_ADM_ESC',\n",
       " 'TP_LOCALIZACAO_ESC',\n",
       " 'TP_SIT_FUNC_ESC',\n",
       " 'media_objetivas_aluno_media',\n",
       " 'media_objetivas_aluno_mediana',\n",
       " 'media_geral_aluno_media',\n",
       " 'media_geral_aluno_mediana',\n",
       " 'nota_matematica_media',\n",
       " 'nota_matematica_mediana',\n",
       " 'nota_redacao_media',\n",
       " 'nota_redacao_mediana',\n",
       " 'renda_per_capita_media',\n",
       " 'renda_per_capita_mediana',\n",
       " 'numero_de_alunos_enem',\n",
       " 'num_alunos_acima_600',\n",
       " 'num_alunos_acima_700']"
      ]
     },
     "execution_count": 62,
     "metadata": {},
     "output_type": "execute_result"
    }
   ],
   "source": [
    "list(df_enem_2017_escolas)"
   ]
  },
  {
   "cell_type": "code",
   "execution_count": 63,
   "metadata": {
    "scrolled": true
   },
   "outputs": [
    {
     "data": {
      "text/plain": [
       "30662"
      ]
     },
     "execution_count": 63,
     "metadata": {},
     "output_type": "execute_result"
    }
   ],
   "source": [
    "len(df_enem_2017_escolas)"
   ]
  },
  {
   "cell_type": "code",
   "execution_count": 64,
   "metadata": {
    "collapsed": true
   },
   "outputs": [],
   "source": [
    "# Variáveis de percentual de alunos com notas acima de 600 ou 700\n",
    "df_enem_2017_escolas['percentual_alunos_acima_600'] = df_enem_2017_escolas['num_alunos_acima_600']/df_enem_2017_escolas['numero_de_alunos_enem']\n",
    "df_enem_2017_escolas['percentual_alunos_acima_700'] = df_enem_2017_escolas['num_alunos_acima_700']/df_enem_2017_escolas['numero_de_alunos_enem']"
   ]
  },
  {
   "cell_type": "code",
   "execution_count": 65,
   "metadata": {
    "collapsed": true
   },
   "outputs": [],
   "source": [
    "df_enem_2017_escolas_filtrado = df_enem_2017_escolas[df_enem_2017_escolas['CO_ESCOLA'] != '']\n",
    "#df_enem_2017_escolas_filtrado = df_enem_2017_escolas_filtrado[df_enem_2017_escolas_filtrado['numero_de_alunos_enem'] > 10].reset_index()"
   ]
  },
  {
   "cell_type": "code",
   "execution_count": 66,
   "metadata": {},
   "outputs": [
    {
     "data": {
      "text/plain": [
       "30662"
      ]
     },
     "execution_count": 66,
     "metadata": {},
     "output_type": "execute_result"
    }
   ],
   "source": [
    "len(df_enem_2017_escolas_filtrado)"
   ]
  },
  {
   "cell_type": "code",
   "execution_count": 67,
   "metadata": {
    "collapsed": true
   },
   "outputs": [],
   "source": [
    "df_enem_2017_escolas_filtrado['CO_ESCOLA_int'] = [int(k) for k in df_enem_2017_escolas_filtrado['CO_ESCOLA'].tolist()]"
   ]
  },
  {
   "cell_type": "code",
   "execution_count": 68,
   "metadata": {
    "scrolled": true
   },
   "outputs": [
    {
     "data": {
      "text/html": [
       "<div>\n",
       "<style>\n",
       "    .dataframe thead tr:only-child th {\n",
       "        text-align: right;\n",
       "    }\n",
       "\n",
       "    .dataframe thead th {\n",
       "        text-align: left;\n",
       "    }\n",
       "\n",
       "    .dataframe tbody tr th {\n",
       "        vertical-align: top;\n",
       "    }\n",
       "</style>\n",
       "<table border=\"1\" class=\"dataframe\">\n",
       "  <thead>\n",
       "    <tr style=\"text-align: right;\">\n",
       "      <th></th>\n",
       "      <th>CO_ESCOLA</th>\n",
       "      <th>CO_UF_ESC</th>\n",
       "      <th>SG_UF_ESC</th>\n",
       "      <th>TP_DEPENDENCIA_ADM_ESC</th>\n",
       "      <th>TP_LOCALIZACAO_ESC</th>\n",
       "      <th>TP_SIT_FUNC_ESC</th>\n",
       "      <th>media_objetivas_aluno_media</th>\n",
       "      <th>media_objetivas_aluno_mediana</th>\n",
       "      <th>media_geral_aluno_media</th>\n",
       "      <th>media_geral_aluno_mediana</th>\n",
       "      <th>...</th>\n",
       "      <th>nota_redacao_media</th>\n",
       "      <th>nota_redacao_mediana</th>\n",
       "      <th>renda_per_capita_media</th>\n",
       "      <th>renda_per_capita_mediana</th>\n",
       "      <th>numero_de_alunos_enem</th>\n",
       "      <th>num_alunos_acima_600</th>\n",
       "      <th>num_alunos_acima_700</th>\n",
       "      <th>percentual_alunos_acima_600</th>\n",
       "      <th>percentual_alunos_acima_700</th>\n",
       "      <th>CO_ESCOLA_int</th>\n",
       "    </tr>\n",
       "  </thead>\n",
       "  <tbody>\n",
       "    <tr>\n",
       "      <th>0</th>\n",
       "      <td>11000058</td>\n",
       "      <td>11</td>\n",
       "      <td>RO</td>\n",
       "      <td>4</td>\n",
       "      <td>1</td>\n",
       "      <td>1</td>\n",
       "      <td>617.080140</td>\n",
       "      <td>624.7250</td>\n",
       "      <td>631.794953</td>\n",
       "      <td>636.14</td>\n",
       "      <td>...</td>\n",
       "      <td>690.654206</td>\n",
       "      <td>680.0</td>\n",
       "      <td>2082.054422</td>\n",
       "      <td>1874.003333</td>\n",
       "      <td>107</td>\n",
       "      <td>76</td>\n",
       "      <td>12</td>\n",
       "      <td>0.710280</td>\n",
       "      <td>0.112150</td>\n",
       "      <td>11000058</td>\n",
       "    </tr>\n",
       "    <tr>\n",
       "      <th>1</th>\n",
       "      <td>11000171</td>\n",
       "      <td>11</td>\n",
       "      <td>RO</td>\n",
       "      <td>4</td>\n",
       "      <td>1</td>\n",
       "      <td>1</td>\n",
       "      <td>513.841667</td>\n",
       "      <td>503.0000</td>\n",
       "      <td>524.851111</td>\n",
       "      <td>536.94</td>\n",
       "      <td>...</td>\n",
       "      <td>568.888889</td>\n",
       "      <td>560.0</td>\n",
       "      <td>1032.438037</td>\n",
       "      <td>468.505000</td>\n",
       "      <td>9</td>\n",
       "      <td>1</td>\n",
       "      <td>0</td>\n",
       "      <td>0.111111</td>\n",
       "      <td>0.000000</td>\n",
       "      <td>11000171</td>\n",
       "    </tr>\n",
       "    <tr>\n",
       "      <th>2</th>\n",
       "      <td>11000180</td>\n",
       "      <td>11</td>\n",
       "      <td>RO</td>\n",
       "      <td>4</td>\n",
       "      <td>1</td>\n",
       "      <td>2</td>\n",
       "      <td>490.975000</td>\n",
       "      <td>490.9750</td>\n",
       "      <td>480.780000</td>\n",
       "      <td>480.78</td>\n",
       "      <td>...</td>\n",
       "      <td>440.000000</td>\n",
       "      <td>440.0</td>\n",
       "      <td>468.501458</td>\n",
       "      <td>468.501458</td>\n",
       "      <td>2</td>\n",
       "      <td>0</td>\n",
       "      <td>0</td>\n",
       "      <td>0.000000</td>\n",
       "      <td>0.000000</td>\n",
       "      <td>11000180</td>\n",
       "    </tr>\n",
       "    <tr>\n",
       "      <th>3</th>\n",
       "      <td>11000198</td>\n",
       "      <td>11</td>\n",
       "      <td>RO</td>\n",
       "      <td>4</td>\n",
       "      <td>1</td>\n",
       "      <td>1</td>\n",
       "      <td>548.647283</td>\n",
       "      <td>567.3875</td>\n",
       "      <td>568.396087</td>\n",
       "      <td>592.20</td>\n",
       "      <td>...</td>\n",
       "      <td>647.391304</td>\n",
       "      <td>660.0</td>\n",
       "      <td>1992.485670</td>\n",
       "      <td>1624.136000</td>\n",
       "      <td>46</td>\n",
       "      <td>18</td>\n",
       "      <td>0</td>\n",
       "      <td>0.391304</td>\n",
       "      <td>0.000000</td>\n",
       "      <td>11000198</td>\n",
       "    </tr>\n",
       "    <tr>\n",
       "      <th>4</th>\n",
       "      <td>11000244</td>\n",
       "      <td>11</td>\n",
       "      <td>RO</td>\n",
       "      <td>4</td>\n",
       "      <td>1</td>\n",
       "      <td>1</td>\n",
       "      <td>547.257778</td>\n",
       "      <td>543.9250</td>\n",
       "      <td>562.872889</td>\n",
       "      <td>559.66</td>\n",
       "      <td>...</td>\n",
       "      <td>625.333333</td>\n",
       "      <td>600.0</td>\n",
       "      <td>1260.432459</td>\n",
       "      <td>937.002000</td>\n",
       "      <td>45</td>\n",
       "      <td>13</td>\n",
       "      <td>2</td>\n",
       "      <td>0.288889</td>\n",
       "      <td>0.044444</td>\n",
       "      <td>11000244</td>\n",
       "    </tr>\n",
       "  </tbody>\n",
       "</table>\n",
       "<p>5 rows × 22 columns</p>\n",
       "</div>"
      ],
      "text/plain": [
       "  CO_ESCOLA CO_UF_ESC SG_UF_ESC TP_DEPENDENCIA_ADM_ESC TP_LOCALIZACAO_ESC  \\\n",
       "0  11000058        11        RO                      4                  1   \n",
       "1  11000171        11        RO                      4                  1   \n",
       "2  11000180        11        RO                      4                  1   \n",
       "3  11000198        11        RO                      4                  1   \n",
       "4  11000244        11        RO                      4                  1   \n",
       "\n",
       "  TP_SIT_FUNC_ESC  media_objetivas_aluno_media  media_objetivas_aluno_mediana  \\\n",
       "0               1                   617.080140                       624.7250   \n",
       "1               1                   513.841667                       503.0000   \n",
       "2               2                   490.975000                       490.9750   \n",
       "3               1                   548.647283                       567.3875   \n",
       "4               1                   547.257778                       543.9250   \n",
       "\n",
       "   media_geral_aluno_media  media_geral_aluno_mediana      ...        \\\n",
       "0               631.794953                     636.14      ...         \n",
       "1               524.851111                     536.94      ...         \n",
       "2               480.780000                     480.78      ...         \n",
       "3               568.396087                     592.20      ...         \n",
       "4               562.872889                     559.66      ...         \n",
       "\n",
       "   nota_redacao_media  nota_redacao_mediana  renda_per_capita_media  \\\n",
       "0          690.654206                 680.0             2082.054422   \n",
       "1          568.888889                 560.0             1032.438037   \n",
       "2          440.000000                 440.0              468.501458   \n",
       "3          647.391304                 660.0             1992.485670   \n",
       "4          625.333333                 600.0             1260.432459   \n",
       "\n",
       "   renda_per_capita_mediana  numero_de_alunos_enem  num_alunos_acima_600  \\\n",
       "0               1874.003333                    107                    76   \n",
       "1                468.505000                      9                     1   \n",
       "2                468.501458                      2                     0   \n",
       "3               1624.136000                     46                    18   \n",
       "4                937.002000                     45                    13   \n",
       "\n",
       "   num_alunos_acima_700  percentual_alunos_acima_600  \\\n",
       "0                    12                     0.710280   \n",
       "1                     0                     0.111111   \n",
       "2                     0                     0.000000   \n",
       "3                     0                     0.391304   \n",
       "4                     2                     0.288889   \n",
       "\n",
       "   percentual_alunos_acima_700  CO_ESCOLA_int  \n",
       "0                     0.112150       11000058  \n",
       "1                     0.000000       11000171  \n",
       "2                     0.000000       11000180  \n",
       "3                     0.000000       11000198  \n",
       "4                     0.044444       11000244  \n",
       "\n",
       "[5 rows x 22 columns]"
      ]
     },
     "execution_count": 68,
     "metadata": {},
     "output_type": "execute_result"
    }
   ],
   "source": [
    "df_enem_2017_escolas_filtrado.head()"
   ]
  },
  {
   "cell_type": "code",
   "execution_count": 69,
   "metadata": {
    "collapsed": true
   },
   "outputs": [],
   "source": [
    "df_enem_2017_escolas_filtrado.to_pickle(\"pickles/df_enem_md_agg_escola_2017_pickle\")"
   ]
  },
  {
   "cell_type": "code",
   "execution_count": null,
   "metadata": {
    "collapsed": true
   },
   "outputs": [],
   "source": []
  }
 ],
 "metadata": {
  "kernelspec": {
   "display_name": "Python 3",
   "language": "python",
   "name": "python3"
  },
  "language_info": {
   "codemirror_mode": {
    "name": "ipython",
    "version": 3
   },
   "file_extension": ".py",
   "mimetype": "text/x-python",
   "name": "python",
   "nbconvert_exporter": "python",
   "pygments_lexer": "ipython3",
   "version": "3.6.1"
  }
 },
 "nbformat": 4,
 "nbformat_minor": 2
}
