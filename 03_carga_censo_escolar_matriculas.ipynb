{
 "cells": [
  {
   "cell_type": "markdown",
   "metadata": {},
   "source": [
    "## Tentando aqui carregar as tebelas gigantes de matrículas do Censo Escolar 2016"
   ]
  },
  {
   "cell_type": "code",
   "execution_count": 1,
   "metadata": {
    "collapsed": true
   },
   "outputs": [],
   "source": [
    "import pandas as pd"
   ]
  },
  {
   "cell_type": "markdown",
   "metadata": {},
   "source": [
    "#### Centro-Oeste"
   ]
  },
  {
   "cell_type": "code",
   "execution_count": 2,
   "metadata": {
    "scrolled": true
   },
   "outputs": [
    {
     "name": "stdout",
     "output_type": "stream",
     "text": [
      "0\n",
      "100000\n",
      "200000\n",
      "300000\n",
      "400000\n",
      "500000\n",
      "600000\n",
      "700000\n",
      "800000\n",
      "900000\n",
      "1000000\n",
      "1100000\n",
      "1200000\n",
      "1300000\n",
      "1400000\n",
      "1500000\n",
      "1600000\n",
      "1700000\n",
      "1800000\n",
      "1900000\n",
      "2000000\n",
      "2100000\n",
      "2200000\n",
      "2300000\n",
      "2400000\n",
      "2500000\n",
      "2600000\n",
      "2700000\n",
      "2800000\n",
      "2900000\n",
      "3000000\n",
      "3100000\n",
      "3200000\n",
      "3300000\n",
      "3400000\n",
      "3500000\n",
      "3600000\n",
      "3700000\n",
      "3800000\n",
      "3900000\n",
      "4000000\n"
     ]
    }
   ],
   "source": [
    "# Centro-Oeste\n",
    "filepath = 'planilhas/censo_escolar/MATRICULA_CO.csv'  \n",
    "with open(filepath, encoding = \"ISO-8859-1\") as fp: \n",
    "    lista_censo_matriculas_CO = []\n",
    "    for cnt, line in enumerate(fp):\n",
    "        if cnt == 0:\n",
    "            colunas = line.split(\"|\")\n",
    "        else:\n",
    "            lista_censo_matriculas_CO.append(line.split(\"|\"))\n",
    "        if cnt % 100000 == 0:\n",
    "            print(cnt)"
   ]
  },
  {
   "cell_type": "code",
   "execution_count": 3,
   "metadata": {},
   "outputs": [
    {
     "data": {
      "text/plain": [
       "4052452"
      ]
     },
     "execution_count": 3,
     "metadata": {},
     "output_type": "execute_result"
    }
   ],
   "source": [
    "len(lista_censo_matriculas_CO)"
   ]
  },
  {
   "cell_type": "code",
   "execution_count": 4,
   "metadata": {
    "collapsed": true
   },
   "outputs": [],
   "source": [
    "df_censo_2017_matriculas_CO = pd.DataFrame(lista_censo_matriculas_CO,columns=colunas)"
   ]
  },
  {
   "cell_type": "code",
   "execution_count": 5,
   "metadata": {
    "collapsed": true
   },
   "outputs": [],
   "source": [
    "df_censo_2017_matriculas_CO = df_censo_2017_matriculas_CO[['CO_ENTIDADE', 'TP_ETAPA_ENSINO', 'ID_MATRICULA']].drop_duplicates()"
   ]
  },
  {
   "cell_type": "code",
   "execution_count": 7,
   "metadata": {
    "collapsed": true
   },
   "outputs": [],
   "source": [
    "df_censo_2017_matriculas_CO_agrupado = df_censo_2017_matriculas_CO.groupby(['CO_ENTIDADE', 'TP_ETAPA_ENSINO']).agg({'ID_MATRICULA':['count']}).reset_index()"
   ]
  },
  {
   "cell_type": "code",
   "execution_count": 9,
   "metadata": {},
   "outputs": [
    {
     "data": {
      "text/plain": [
       "67822"
      ]
     },
     "execution_count": 9,
     "metadata": {},
     "output_type": "execute_result"
    }
   ],
   "source": [
    "len(df_censo_2017_matriculas_CO_agrupado)"
   ]
  },
  {
   "cell_type": "code",
   "execution_count": 10,
   "metadata": {
    "collapsed": true
   },
   "outputs": [],
   "source": [
    "df_censo_2017_matriculas_CO_agrupado.to_pickle('df_censo_2017_matriculas_CO_agrupado')"
   ]
  },
  {
   "cell_type": "code",
   "execution_count": 12,
   "metadata": {
    "collapsed": true
   },
   "outputs": [],
   "source": [
    "lista_censo_matriculas_CO = []\n",
    "del(df_censo_2017_matriculas_CO)"
   ]
  },
  {
   "cell_type": "markdown",
   "metadata": {},
   "source": [
    "#### Norte"
   ]
  },
  {
   "cell_type": "code",
   "execution_count": 13,
   "metadata": {},
   "outputs": [
    {
     "name": "stdout",
     "output_type": "stream",
     "text": [
      "0\n",
      "100000\n",
      "200000\n",
      "300000\n",
      "400000\n",
      "500000\n",
      "600000\n",
      "700000\n",
      "800000\n",
      "900000\n",
      "1000000\n",
      "1100000\n",
      "1200000\n",
      "1300000\n",
      "1400000\n",
      "1500000\n",
      "1600000\n",
      "1700000\n",
      "1800000\n",
      "1900000\n",
      "2000000\n",
      "2100000\n",
      "2200000\n",
      "2300000\n",
      "2400000\n",
      "2500000\n",
      "2600000\n",
      "2700000\n",
      "2800000\n",
      "2900000\n",
      "3000000\n",
      "3100000\n",
      "3200000\n",
      "3300000\n",
      "3400000\n",
      "3500000\n",
      "3600000\n",
      "3700000\n",
      "3800000\n",
      "3900000\n",
      "4000000\n",
      "4100000\n",
      "4200000\n",
      "4300000\n",
      "4400000\n",
      "4500000\n",
      "4600000\n",
      "4700000\n",
      "4800000\n",
      "4900000\n",
      "5000000\n",
      "5100000\n",
      "5200000\n",
      "5300000\n",
      "5400000\n",
      "5500000\n",
      "5600000\n"
     ]
    }
   ],
   "source": [
    "# Norte\n",
    "filepath = 'planilhas/censo_escolar/MATRICULA_NORTE.csv'  \n",
    "with open(filepath, encoding = \"ISO-8859-1\") as fp: \n",
    "    lista_censo_matriculas_NO = []\n",
    "    for cnt, line in enumerate(fp):\n",
    "        if cnt == 0:\n",
    "            colunas = line.split(\"|\")\n",
    "        else:\n",
    "            lista_censo_matriculas_NO.append(line.split(\"|\"))\n",
    "        if cnt % 100000 == 0:\n",
    "            print(cnt)"
   ]
  },
  {
   "cell_type": "code",
   "execution_count": 14,
   "metadata": {},
   "outputs": [
    {
     "data": {
      "text/plain": [
       "5621937"
      ]
     },
     "execution_count": 14,
     "metadata": {},
     "output_type": "execute_result"
    }
   ],
   "source": [
    "len(lista_censo_matriculas_NO)"
   ]
  },
  {
   "cell_type": "code",
   "execution_count": 15,
   "metadata": {
    "collapsed": true
   },
   "outputs": [],
   "source": [
    "df_censo_2017_matriculas_NO = pd.DataFrame(lista_censo_matriculas_NO,columns=colunas)"
   ]
  },
  {
   "cell_type": "code",
   "execution_count": 16,
   "metadata": {
    "collapsed": true
   },
   "outputs": [],
   "source": [
    "df_censo_2017_matriculas_NO = df_censo_2017_matriculas_NO[['CO_ENTIDADE', 'TP_ETAPA_ENSINO', 'ID_MATRICULA']].drop_duplicates()"
   ]
  },
  {
   "cell_type": "code",
   "execution_count": 17,
   "metadata": {
    "collapsed": true
   },
   "outputs": [],
   "source": [
    "df_censo_2017_matriculas_NO_agrupado = df_censo_2017_matriculas_NO.groupby(['CO_ENTIDADE', 'TP_ETAPA_ENSINO']).agg({'ID_MATRICULA':['count']}).reset_index()"
   ]
  },
  {
   "cell_type": "code",
   "execution_count": 18,
   "metadata": {},
   "outputs": [
    {
     "data": {
      "text/plain": [
       "150318"
      ]
     },
     "execution_count": 18,
     "metadata": {},
     "output_type": "execute_result"
    }
   ],
   "source": [
    "len(df_censo_2017_matriculas_NO_agrupado)"
   ]
  },
  {
   "cell_type": "code",
   "execution_count": 20,
   "metadata": {
    "collapsed": true
   },
   "outputs": [],
   "source": [
    "del(df_censo_2017_matriculas_NO)"
   ]
  },
  {
   "cell_type": "code",
   "execution_count": 21,
   "metadata": {
    "collapsed": true
   },
   "outputs": [],
   "source": [
    "lista_censo_matriculas_NO = []\n",
    "df_censo_2017_matriculas_NO_agrupado.to_pickle('df_censo_2017_matriculas_NO_agrupado')"
   ]
  },
  {
   "cell_type": "markdown",
   "metadata": {},
   "source": [
    "#### Sul"
   ]
  },
  {
   "cell_type": "code",
   "execution_count": 22,
   "metadata": {
    "scrolled": true
   },
   "outputs": [
    {
     "name": "stdout",
     "output_type": "stream",
     "text": [
      "0\n",
      "100000\n",
      "200000\n",
      "300000\n",
      "400000\n",
      "500000\n",
      "600000\n",
      "700000\n",
      "800000\n",
      "900000\n",
      "1000000\n",
      "1100000\n",
      "1200000\n",
      "1300000\n",
      "1400000\n",
      "1500000\n",
      "1600000\n",
      "1700000\n",
      "1800000\n",
      "1900000\n",
      "2000000\n",
      "2100000\n",
      "2200000\n",
      "2300000\n",
      "2400000\n",
      "2500000\n",
      "2600000\n",
      "2700000\n",
      "2800000\n",
      "2900000\n",
      "3000000\n",
      "3100000\n",
      "3200000\n",
      "3300000\n",
      "3400000\n",
      "3500000\n",
      "3600000\n",
      "3700000\n",
      "3800000\n",
      "3900000\n",
      "4000000\n",
      "4100000\n",
      "4200000\n",
      "4300000\n",
      "4400000\n",
      "4500000\n",
      "4600000\n",
      "4700000\n",
      "4800000\n",
      "4900000\n",
      "5000000\n",
      "5100000\n",
      "5200000\n",
      "5300000\n",
      "5400000\n",
      "5500000\n",
      "5600000\n",
      "5700000\n",
      "5800000\n",
      "5900000\n",
      "6000000\n",
      "6100000\n",
      "6200000\n",
      "6300000\n",
      "6400000\n",
      "6500000\n",
      "6600000\n",
      "6700000\n",
      "6800000\n",
      "6900000\n",
      "7000000\n",
      "7100000\n"
     ]
    }
   ],
   "source": [
    "# Sul\n",
    "filepath = 'planilhas/censo_escolar/MATRICULA_SUL.csv'  \n",
    "with open(filepath, encoding = \"ISO-8859-1\") as fp: \n",
    "    lista_censo_matriculas_SUL = []\n",
    "    for cnt, line in enumerate(fp):\n",
    "        if cnt == 0:\n",
    "            colunas = line.split(\"|\")\n",
    "        else:\n",
    "            lista_censo_matriculas_SUL.append(line.split(\"|\"))\n",
    "        if cnt % 100000 == 0:\n",
    "            print(cnt)"
   ]
  },
  {
   "cell_type": "code",
   "execution_count": 23,
   "metadata": {},
   "outputs": [
    {
     "data": {
      "text/plain": [
       "7112070"
      ]
     },
     "execution_count": 23,
     "metadata": {},
     "output_type": "execute_result"
    }
   ],
   "source": [
    "len(lista_censo_matriculas_SUL)"
   ]
  },
  {
   "cell_type": "code",
   "execution_count": 24,
   "metadata": {
    "collapsed": true
   },
   "outputs": [],
   "source": [
    "df_censo_2017_matriculas_SUL = pd.DataFrame(lista_censo_matriculas_SUL,columns=colunas)"
   ]
  },
  {
   "cell_type": "code",
   "execution_count": 23,
   "metadata": {
    "collapsed": true
   },
   "outputs": [],
   "source": [
    "df_censo_2017_matriculas_SUL = df_censo_2017_matriculas_SUL[['CO_ENTIDADE', 'TP_ETAPA_ENSINO', 'ID_MATRICULA']].drop_duplicates()"
   ]
  },
  {
   "cell_type": "code",
   "execution_count": 25,
   "metadata": {
    "collapsed": true
   },
   "outputs": [],
   "source": [
    "df_censo_2017_matriculas_SUL_agrupado = df_censo_2017_matriculas_SUL.groupby(['CO_ENTIDADE', 'TP_ETAPA_ENSINO']).agg({'ID_MATRICULA':['count']}).reset_index()"
   ]
  },
  {
   "cell_type": "code",
   "execution_count": 26,
   "metadata": {},
   "outputs": [
    {
     "data": {
      "text/plain": [
       "151731"
      ]
     },
     "execution_count": 26,
     "metadata": {},
     "output_type": "execute_result"
    }
   ],
   "source": [
    "len(df_censo_2017_matriculas_SUL_agrupado)"
   ]
  },
  {
   "cell_type": "code",
   "execution_count": 27,
   "metadata": {
    "collapsed": true
   },
   "outputs": [],
   "source": [
    "df_censo_2017_matriculas_SUL_agrupado.to_pickle('df_censo_2017_matriculas_SUL_agrupado')"
   ]
  },
  {
   "cell_type": "code",
   "execution_count": 28,
   "metadata": {
    "collapsed": true
   },
   "outputs": [],
   "source": [
    "lista_censo_matriculas_SUL = []\n",
    "del(df_censo_2017_matriculas_SUL)"
   ]
  },
  {
   "cell_type": "markdown",
   "metadata": {},
   "source": [
    "#### Nordeste"
   ]
  },
  {
   "cell_type": "code",
   "execution_count": 29,
   "metadata": {},
   "outputs": [
    {
     "name": "stdout",
     "output_type": "stream",
     "text": [
      "0\n",
      "500000\n",
      "1000000\n",
      "1500000\n",
      "2000000\n",
      "2500000\n",
      "3000000\n",
      "3500000\n",
      "4000000\n",
      "4500000\n",
      "5000000\n",
      "5500000\n",
      "6000000\n",
      "6500000\n",
      "7000000\n",
      "7500000\n",
      "8000000\n",
      "8500000\n",
      "9000000\n",
      "9500000\n",
      "10000000\n",
      "10500000\n",
      "11000000\n",
      "11500000\n",
      "12000000\n",
      "12500000\n",
      "13000000\n",
      "13500000\n",
      "14000000\n",
      "14500000\n",
      "15000000\n",
      "15500000\n",
      "16000000\n"
     ]
    }
   ],
   "source": [
    "# Nordeste\n",
    "filepath = 'planilhas/censo_escolar/MATRICULA_NORDESTE.csv'  \n",
    "with open(filepath, encoding = \"ISO-8859-1\") as fp: \n",
    "    lista_censo_matriculas_NE = []\n",
    "    for cnt, line in enumerate(fp):\n",
    "        if cnt == 0:\n",
    "            colunas = line.split(\"|\")\n",
    "            colunas_filtro = [k for k in colunas if k in ['CO_ENTIDADE', 'TP_ETAPA_ENSINO', 'ID_MATRICULA']]\n",
    "            colunas_filtro_ix = [colunas.index(colunas_filtro[0]),colunas.index(colunas_filtro[1]),colunas.index(colunas_filtro[2])]\n",
    "            \n",
    "        else:\n",
    "            lista_censo_matriculas_NE.append([line.split(\"|\")[colunas_filtro_ix[0]], line.split(\"|\")[colunas_filtro_ix[1]], line.split(\"|\")[colunas_filtro_ix[2]]])\n",
    "        if cnt % 500000 == 0:\n",
    "            print(cnt)"
   ]
  },
  {
   "cell_type": "code",
   "execution_count": 30,
   "metadata": {
    "scrolled": true
   },
   "outputs": [
    {
     "data": {
      "text/plain": [
       "16344437"
      ]
     },
     "execution_count": 30,
     "metadata": {},
     "output_type": "execute_result"
    }
   ],
   "source": [
    "len(lista_censo_matriculas_NE)"
   ]
  },
  {
   "cell_type": "code",
   "execution_count": 31,
   "metadata": {
    "collapsed": true
   },
   "outputs": [],
   "source": [
    "df_censo_2017_matriculas_NE = pd.DataFrame(lista_censo_matriculas_NE,columns=colunas_filtro)"
   ]
  },
  {
   "cell_type": "code",
   "execution_count": 32,
   "metadata": {
    "collapsed": true
   },
   "outputs": [],
   "source": [
    "df_censo_2017_matriculas_NE = df_censo_2017_matriculas_NE[['CO_ENTIDADE', 'TP_ETAPA_ENSINO', 'ID_MATRICULA']].drop_duplicates()"
   ]
  },
  {
   "cell_type": "code",
   "execution_count": 33,
   "metadata": {
    "collapsed": true
   },
   "outputs": [],
   "source": [
    "df_censo_2017_matriculas_NE_agrupado = df_censo_2017_matriculas_NE.groupby(['CO_ENTIDADE', 'TP_ETAPA_ENSINO']).agg({'ID_MATRICULA':['count']}).reset_index()"
   ]
  },
  {
   "cell_type": "code",
   "execution_count": 34,
   "metadata": {
    "scrolled": true
   },
   "outputs": [
    {
     "data": {
      "text/plain": [
       "426542"
      ]
     },
     "execution_count": 34,
     "metadata": {},
     "output_type": "execute_result"
    }
   ],
   "source": [
    "len(df_censo_2017_matriculas_NE_agrupado)"
   ]
  },
  {
   "cell_type": "code",
   "execution_count": 35,
   "metadata": {
    "collapsed": true
   },
   "outputs": [],
   "source": [
    "df_censo_2017_matriculas_NE_agrupado.to_pickle('df_censo_2017_matriculas_NE_agrupado')"
   ]
  },
  {
   "cell_type": "code",
   "execution_count": 36,
   "metadata": {
    "collapsed": true
   },
   "outputs": [],
   "source": [
    "lista_censo_matriculas_NE = []\n",
    "del(df_censo_2017_matriculas_NE)"
   ]
  },
  {
   "cell_type": "markdown",
   "metadata": {},
   "source": [
    "#### Sudeste"
   ]
  },
  {
   "cell_type": "code",
   "execution_count": 37,
   "metadata": {},
   "outputs": [
    {
     "name": "stdout",
     "output_type": "stream",
     "text": [
      "0\n",
      "1000000\n",
      "2000000\n",
      "3000000\n",
      "4000000\n",
      "5000000\n",
      "6000000\n",
      "7000000\n",
      "8000000\n",
      "9000000\n",
      "10000000\n",
      "11000000\n",
      "12000000\n",
      "13000000\n",
      "14000000\n",
      "15000000\n",
      "16000000\n",
      "17000000\n",
      "18000000\n",
      "19000000\n",
      "20000000\n"
     ]
    }
   ],
   "source": [
    "# Sudeste\n",
    "filepath = 'planilhas/censo_escolar/MATRICULA_SUDESTE.csv'  \n",
    "with open(filepath, encoding = \"ISO-8859-1\") as fp: \n",
    "    lista_censo_matriculas_SE = []\n",
    "    for cnt, line in enumerate(fp):\n",
    "        if cnt == 0:\n",
    "            colunas = line.split(\"|\")\n",
    "            colunas_filtro = [k for k in colunas if k in ['CO_ENTIDADE', 'TP_ETAPA_ENSINO', 'ID_MATRICULA']]\n",
    "            colunas_filtro_ix = [colunas.index(colunas_filtro[0]),colunas.index(colunas_filtro[1]),colunas.index(colunas_filtro[2])]\n",
    "            \n",
    "        else:\n",
    "            lista_censo_matriculas_SE.append([line.split(\"|\")[colunas_filtro_ix[0]], line.split(\"|\")[colunas_filtro_ix[1]], line.split(\"|\")[colunas_filtro_ix[2]]])\n",
    "        if cnt % 1000000 == 0:\n",
    "            print(cnt)"
   ]
  },
  {
   "cell_type": "code",
   "execution_count": 38,
   "metadata": {
    "scrolled": true
   },
   "outputs": [
    {
     "data": {
      "text/plain": [
       "20769773"
      ]
     },
     "execution_count": 38,
     "metadata": {},
     "output_type": "execute_result"
    }
   ],
   "source": [
    "len(lista_censo_matriculas_SE)"
   ]
  },
  {
   "cell_type": "code",
   "execution_count": 39,
   "metadata": {
    "collapsed": true
   },
   "outputs": [],
   "source": [
    "df_censo_2017_matriculas_SE = pd.DataFrame(lista_censo_matriculas_SE,columns=colunas_filtro)"
   ]
  },
  {
   "cell_type": "code",
   "execution_count": 40,
   "metadata": {
    "collapsed": true
   },
   "outputs": [],
   "source": [
    "df_censo_2017_matriculas_SE = df_censo_2017_matriculas_SE[['CO_ENTIDADE', 'TP_ETAPA_ENSINO', 'ID_MATRICULA']].drop_duplicates()"
   ]
  },
  {
   "cell_type": "code",
   "execution_count": 41,
   "metadata": {
    "collapsed": true
   },
   "outputs": [],
   "source": [
    "df_censo_2017_matriculas_SE_agrupado = df_censo_2017_matriculas_SE.groupby(['CO_ENTIDADE', 'TP_ETAPA_ENSINO']).agg({'ID_MATRICULA':['count']}).reset_index()"
   ]
  },
  {
   "cell_type": "code",
   "execution_count": 42,
   "metadata": {
    "scrolled": true
   },
   "outputs": [
    {
     "data": {
      "text/plain": [
       "332815"
      ]
     },
     "execution_count": 42,
     "metadata": {},
     "output_type": "execute_result"
    }
   ],
   "source": [
    "len(df_censo_2017_matriculas_SE_agrupado)"
   ]
  },
  {
   "cell_type": "code",
   "execution_count": 43,
   "metadata": {
    "collapsed": true
   },
   "outputs": [],
   "source": [
    "df_censo_2017_matriculas_SE_agrupado.to_pickle('df_censo_2017_matriculas_SE_agrupado')"
   ]
  },
  {
   "cell_type": "code",
   "execution_count": 44,
   "metadata": {
    "collapsed": true
   },
   "outputs": [],
   "source": [
    "lista_censo_matriculas_SE = []\n",
    "del(df_censo_2017_matriculas_SE)"
   ]
  },
  {
   "cell_type": "markdown",
   "metadata": {},
   "source": [
    "#### Juntando tudo num tabelao por escola"
   ]
  },
  {
   "cell_type": "code",
   "execution_count": 39,
   "metadata": {
    "collapsed": true
   },
   "outputs": [],
   "source": [
    "df_censo_2017_matriculas_CO_agrupado = pd.read_pickle(\"df_censo_2016_matriculas_CO_agrupado\")\n",
    "df_censo_2017_matriculas_NO_agrupado = pd.read_pickle(\"df_censo_2016_matriculas_NO_agrupado\")\n",
    "df_censo_2017_matriculas_SUL_agrupado = pd.read_pickle(\"df_censo_2016_matriculas_SUL_agrupado\")"
   ]
  },
  {
   "cell_type": "code",
   "execution_count": 45,
   "metadata": {
    "collapsed": true
   },
   "outputs": [],
   "source": [
    "df_censo_2017_matriculas = pd.concat([df_censo_2017_matriculas_CO_agrupado, df_censo_2017_matriculas_NO_agrupado, df_censo_2017_matriculas_SUL_agrupado, df_censo_2017_matriculas_SE_agrupado, df_censo_2017_matriculas_NE_agrupado])"
   ]
  },
  {
   "cell_type": "code",
   "execution_count": 46,
   "metadata": {
    "collapsed": true
   },
   "outputs": [],
   "source": [
    "df_censo_2017_matriculas.columns = ['CO_ENTIDADE','TP_ETAPA_ENSINO','qtde_alunos']"
   ]
  },
  {
   "cell_type": "code",
   "execution_count": 47,
   "metadata": {
    "scrolled": true
   },
   "outputs": [
    {
     "data": {
      "text/plain": [
       "['CO_ENTIDADE', 'TP_ETAPA_ENSINO', 'qtde_alunos']"
      ]
     },
     "execution_count": 47,
     "metadata": {},
     "output_type": "execute_result"
    }
   ],
   "source": [
    "list(df_censo_2017_matriculas)"
   ]
  },
  {
   "cell_type": "code",
   "execution_count": 48,
   "metadata": {
    "collapsed": true
   },
   "outputs": [],
   "source": [
    "# criando dummy que indica ensino medio\n",
    "def ensino_medio (x):\n",
    "    if x in ['25','26','27','28','29','30','31','32','33','34','35','36','37','38']:\n",
    "        y = 1\n",
    "    else:\n",
    "        y = 0\n",
    "    return y"
   ]
  },
  {
   "cell_type": "code",
   "execution_count": 49,
   "metadata": {
    "collapsed": true
   },
   "outputs": [],
   "source": [
    "df_censo_2017_matriculas['dumy_ensino_medio'] = df_censo_2017_matriculas['TP_ETAPA_ENSINO'].map(ensino_medio)"
   ]
  },
  {
   "cell_type": "code",
   "execution_count": 50,
   "metadata": {
    "collapsed": true
   },
   "outputs": [],
   "source": [
    "df_censo_2017_matriculas_total = df_censo_2017_matriculas.groupby(['CO_ENTIDADE']).agg({'qtde_alunos': ['sum']}).reset_index()"
   ]
  },
  {
   "cell_type": "code",
   "execution_count": 51,
   "metadata": {
    "collapsed": true
   },
   "outputs": [],
   "source": [
    "df_censo_2017_matriculas_medio = df_censo_2017_matriculas[df_censo_2017_matriculas['dumy_ensino_medio'] == 1].groupby(['CO_ENTIDADE']).agg({'qtde_alunos': ['sum']}).reset_index()"
   ]
  },
  {
   "cell_type": "code",
   "execution_count": 52,
   "metadata": {},
   "outputs": [
    {
     "name": "stderr",
     "output_type": "stream",
     "text": [
      "/Applications/anaconda/lib/python3.6/site-packages/pandas/core/reshape/merge.py:862: PerformanceWarning: dropping on a non-lexsorted multi-index without a level parameter may impact performance.\n",
      "  self.right = self.right.drop(right_drop, axis=1)\n"
     ]
    }
   ],
   "source": [
    "df_censo_2017_matriculas_resumo = df_censo_2017_matriculas_medio.merge(df_censo_2017_matriculas_total, how = 'inner', left_on = 'CO_ENTIDADE', right_on = 'CO_ENTIDADE')"
   ]
  },
  {
   "cell_type": "code",
   "execution_count": 53,
   "metadata": {
    "collapsed": true
   },
   "outputs": [],
   "source": [
    "df_censo_2017_matriculas_resumo.columns = ['CO_ENTIDADE','qtde_alunos_EM','qtde_alunos']"
   ]
  },
  {
   "cell_type": "code",
   "execution_count": 54,
   "metadata": {
    "collapsed": true
   },
   "outputs": [],
   "source": [
    "df_censo_2017_matriculas_resumo.to_pickle('df_censo_2017_matriculas_resumo')"
   ]
  },
  {
   "cell_type": "code",
   "execution_count": 56,
   "metadata": {},
   "outputs": [
    {
     "data": {
      "text/plain": [
       "28558"
      ]
     },
     "execution_count": 56,
     "metadata": {},
     "output_type": "execute_result"
    }
   ],
   "source": [
    "len(df_censo_2017_matriculas_resumo)"
   ]
  }
 ],
 "metadata": {
  "kernelspec": {
   "display_name": "Python 3",
   "language": "python",
   "name": "python3"
  },
  "language_info": {
   "codemirror_mode": {
    "name": "ipython",
    "version": 3
   },
   "file_extension": ".py",
   "mimetype": "text/x-python",
   "name": "python",
   "nbconvert_exporter": "python",
   "pygments_lexer": "ipython3",
   "version": "3.6.1"
  }
 },
 "nbformat": 4,
 "nbformat_minor": 2
}
