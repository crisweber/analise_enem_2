{
 "cells": [
  {
   "cell_type": "markdown",
   "metadata": {},
   "source": [
    "## Carregando tabelas gigantes dos docentes"
   ]
  },
  {
   "cell_type": "code",
   "execution_count": 1,
   "metadata": {
    "collapsed": true
   },
   "outputs": [],
   "source": [
    "# Pacotes\n",
    "import pandas as pd"
   ]
  },
  {
   "cell_type": "code",
   "execution_count": 2,
   "metadata": {
    "collapsed": true
   },
   "outputs": [],
   "source": [
    "# Funções úteis\n",
    "def to_float(x):\n",
    "    if x == '':\n",
    "        y = 0\n",
    "    else:\n",
    "        y = float(x)\n",
    "    return y"
   ]
  },
  {
   "cell_type": "markdown",
   "metadata": {},
   "source": [
    "###### Vou carregar num dataframe somente os docentes vinculados às escolas que estão na base do ENEM 2017. Isso evita o processador sentar."
   ]
  },
  {
   "cell_type": "code",
   "execution_count": 3,
   "metadata": {
    "collapsed": true
   },
   "outputs": [],
   "source": [
    "df_enem_2017_escolas_filtrado = pd.read_pickle(\"pickles/df_enem_md_agg_escola_2017_pickle\")"
   ]
  },
  {
   "cell_type": "code",
   "execution_count": 4,
   "metadata": {},
   "outputs": [
    {
     "data": {
      "text/plain": [
       "30662"
      ]
     },
     "execution_count": 4,
     "metadata": {},
     "output_type": "execute_result"
    }
   ],
   "source": [
    "lista_escolas_enem_str = sorted(df_enem_2017_escolas_filtrado['CO_ESCOLA'].tolist())\n",
    "len(lista_escolas_enem_str)"
   ]
  },
  {
   "cell_type": "code",
   "execution_count": 31,
   "metadata": {
    "scrolled": true
   },
   "outputs": [
    {
     "name": "stdout",
     "output_type": "stream",
     "text": [
      "0\n",
      "100000\n",
      "200000\n",
      "300000\n",
      "400000\n",
      "500000\n",
      "600000\n",
      "700000\n",
      "800000\n",
      "900000\n",
      "1000000\n",
      "1100000\n"
     ]
    }
   ],
   "source": [
    "# Norte\n",
    "filepath = 'planilhas/censo_escolar/DOCENTES_NORTE.csv'  \n",
    "with open(filepath, encoding = \"ISO-8859-1\") as fp: \n",
    "    lista_censo_escolas_NO = []\n",
    "    for cnt, line in enumerate(fp):\n",
    "        if cnt == 0:\n",
    "            colunas = line.split(\"|\")\n",
    "        elif line.split(\"|\")[115] in lista_escolas_enem_str:\n",
    "            lista_censo_escolas_NO.append(line.split(\"|\"))\n",
    "        if cnt % 100000 == 0:\n",
    "            print(cnt)\n",
    "            \n",
    "df_censo_2017_docentes_NO = pd.DataFrame(lista_censo_escolas_NO,columns=colunas)\n",
    "df_censo_2017_docentes_NO['regiao'] = 'NO'"
   ]
  },
  {
   "cell_type": "code",
   "execution_count": 32,
   "metadata": {
    "collapsed": true
   },
   "outputs": [],
   "source": [
    "df_censo_2017_docentes_NO.to_pickle(\"pickles/df_censo_2017_docentes_NO\")\n",
    "del(df_censo_2017_docentes_NO)"
   ]
  },
  {
   "cell_type": "code",
   "execution_count": 33,
   "metadata": {
    "scrolled": true
   },
   "outputs": [
    {
     "name": "stdout",
     "output_type": "stream",
     "text": [
      "0\n",
      "100000\n",
      "200000\n",
      "300000\n",
      "400000\n",
      "500000\n",
      "600000\n",
      "700000\n",
      "800000\n",
      "900000\n"
     ]
    }
   ],
   "source": [
    "# Centro-Oeste\n",
    "filepath = 'planilhas/censo_escolar/DOCENTES_CO.csv'  \n",
    "with open(filepath, encoding = \"ISO-8859-1\") as fp: \n",
    "    lista_censo_escolas_CO = []\n",
    "    for cnt, line in enumerate(fp):\n",
    "        if cnt == 0:\n",
    "            colunas = line.split(\"|\")\n",
    "        elif line.split(\"|\")[115] in lista_escolas_enem_str:\n",
    "            lista_censo_escolas_CO.append(line.split(\"|\"))\n",
    "        if cnt % 100000 == 0:\n",
    "            print(cnt)\n",
    "            \n",
    "df_censo_2017_docentes_CO = pd.DataFrame(lista_censo_escolas_CO,columns=colunas)\n",
    "df_censo_2017_docentes_CO['regiao'] = 'CO'"
   ]
  },
  {
   "cell_type": "code",
   "execution_count": 34,
   "metadata": {
    "collapsed": true
   },
   "outputs": [],
   "source": [
    "df_censo_2017_docentes_CO.to_pickle(\"pickles/df_censo_2017_docentes_CO\")\n",
    "del(df_censo_2017_docentes_CO)"
   ]
  },
  {
   "cell_type": "code",
   "execution_count": 40,
   "metadata": {
    "scrolled": true
   },
   "outputs": [
    {
     "name": "stdout",
     "output_type": "stream",
     "text": [
      "0\n",
      "100000\n",
      "200000\n",
      "300000\n",
      "400000\n",
      "500000\n",
      "600000\n",
      "700000\n",
      "800000\n",
      "900000\n",
      "1000000\n",
      "1100000\n",
      "1200000\n",
      "1300000\n",
      "1400000\n",
      "1500000\n",
      "1600000\n",
      "1700000\n",
      "1800000\n",
      "1900000\n",
      "2000000\n",
      "2100000\n",
      "2200000\n",
      "2300000\n",
      "2400000\n",
      "2500000\n",
      "2600000\n",
      "2700000\n",
      "2800000\n",
      "2900000\n",
      "3000000\n",
      "3100000\n"
     ]
    }
   ],
   "source": [
    "# Nordeste\n",
    "filepath = 'planilhas/censo_escolar/DOCENTES_NORDESTE.csv'  \n",
    "with open(filepath, encoding = \"ISO-8859-1\") as fp: \n",
    "    lista_censo_escolas_NE = []\n",
    "    for cnt, line in enumerate(fp):\n",
    "        if cnt == 0:\n",
    "            colunas = line.split(\"|\")\n",
    "        elif line.split(\"|\")[115] in lista_escolas_enem_str:\n",
    "            lista_censo_escolas_NE.append(line.split(\"|\"))\n",
    "        if cnt % 100000 == 0:\n",
    "            print(cnt)\n",
    "            \n",
    "df_censo_2017_docentes_NE = pd.DataFrame(lista_censo_escolas_NE,columns=colunas)\n",
    "df_censo_2017_docentes_NE['regiao'] = 'NE'"
   ]
  },
  {
   "cell_type": "code",
   "execution_count": 41,
   "metadata": {
    "collapsed": true
   },
   "outputs": [],
   "source": [
    "df_censo_2017_docentes_NE.to_pickle(\"pickles/df_censo_2017_docentes_NE\")\n",
    "del(df_censo_2017_docentes_NE)"
   ]
  },
  {
   "cell_type": "code",
   "execution_count": 42,
   "metadata": {
    "scrolled": true
   },
   "outputs": [
    {
     "name": "stdout",
     "output_type": "stream",
     "text": [
      "0\n",
      "100000\n",
      "200000\n",
      "300000\n",
      "400000\n",
      "500000\n",
      "600000\n",
      "700000\n",
      "800000\n",
      "900000\n",
      "1000000\n",
      "1100000\n",
      "1200000\n",
      "1300000\n",
      "1400000\n",
      "1500000\n",
      "1600000\n",
      "1700000\n",
      "1800000\n",
      "1900000\n",
      "2000000\n",
      "2100000\n",
      "2200000\n",
      "2300000\n",
      "2400000\n",
      "2500000\n",
      "2600000\n",
      "2700000\n",
      "2800000\n",
      "2900000\n",
      "3000000\n",
      "3100000\n",
      "3200000\n",
      "3300000\n",
      "3400000\n",
      "3500000\n",
      "3600000\n",
      "3700000\n",
      "3800000\n",
      "3900000\n",
      "4000000\n",
      "4100000\n",
      "4200000\n",
      "4300000\n",
      "4400000\n",
      "4500000\n",
      "4600000\n",
      "4700000\n"
     ]
    }
   ],
   "source": [
    "# Sudeste\n",
    "filepath = 'planilhas/censo_escolar/DOCENTES_SUDESTE.csv'  \n",
    "with open(filepath, encoding = \"ISO-8859-1\") as fp: \n",
    "    lista_censo_escolas_SE = []\n",
    "    for cnt, line in enumerate(fp):\n",
    "        if cnt == 0:\n",
    "            colunas = line.split(\"|\")\n",
    "        elif line.split(\"|\")[115] in lista_escolas_enem_str:\n",
    "            lista_censo_escolas_SE.append(line.split(\"|\"))\n",
    "        if cnt % 100000 == 0:\n",
    "            print(cnt)\n",
    "            \n",
    "df_censo_2017_docentes_SE = pd.DataFrame(lista_censo_escolas_SE,columns=colunas)\n",
    "df_censo_2017_docentes_SE['regiao'] = 'SE'"
   ]
  },
  {
   "cell_type": "code",
   "execution_count": 43,
   "metadata": {
    "collapsed": true
   },
   "outputs": [],
   "source": [
    "df_censo_2017_docentes_SE.to_pickle(\"pickles/df_censo_2017_docentes_SE\")\n",
    "del(df_censo_2017_docentes_SE)"
   ]
  },
  {
   "cell_type": "code",
   "execution_count": 44,
   "metadata": {},
   "outputs": [
    {
     "name": "stdout",
     "output_type": "stream",
     "text": [
      "0\n",
      "100000\n",
      "200000\n",
      "300000\n",
      "400000\n",
      "500000\n",
      "600000\n",
      "700000\n",
      "800000\n",
      "900000\n",
      "1000000\n",
      "1100000\n",
      "1200000\n",
      "1300000\n",
      "1400000\n",
      "1500000\n",
      "1600000\n",
      "1700000\n",
      "1800000\n"
     ]
    }
   ],
   "source": [
    "# Sul\n",
    "filepath = 'planilhas/censo_escolar/DOCENTES_SUL.csv'  \n",
    "with open(filepath, encoding = \"ISO-8859-1\") as fp: \n",
    "    lista_censo_escolas_SU = []\n",
    "    for cnt, line in enumerate(fp):\n",
    "        if cnt == 0:\n",
    "            colunas = line.split(\"|\")\n",
    "        elif line.split(\"|\")[115] in lista_escolas_enem_str:\n",
    "            lista_censo_escolas_SU.append(line.split(\"|\"))\n",
    "        if cnt % 100000 == 0:\n",
    "            print(cnt)\n",
    "            \n",
    "df_censo_2017_docentes_SU = pd.DataFrame(lista_censo_escolas_SU,columns=colunas)\n",
    "df_censo_2017_docentes_SU['regiao'] = 'SU'"
   ]
  },
  {
   "cell_type": "code",
   "execution_count": 45,
   "metadata": {
    "collapsed": true
   },
   "outputs": [],
   "source": [
    "df_censo_2017_docentes_SU.to_pickle(\"pickles/df_censo_2017_docentes_SU\")\n",
    "del(df_censo_2017_docentes_SU)"
   ]
  },
  {
   "cell_type": "markdown",
   "metadata": {},
   "source": [
    "###### Criando tabelão de docentes"
   ]
  },
  {
   "cell_type": "code",
   "execution_count": 9,
   "metadata": {
    "collapsed": true
   },
   "outputs": [],
   "source": [
    "# Trazendo os dataframes\n",
    "#df_censo_2017_docentes_SU = pd.read_pickle(\"pickles/df_censo_2017_docentes_SU\")\n",
    "#df_censo_2017_docentes_SE = pd.read_pickle(\"pickles/df_censo_2017_docentes_SE\")\n",
    "#df_censo_2017_docentes_NO = pd.read_pickle(\"pickles/df_censo_2017_docentes_NO\")\n",
    "df_censo_2017_docentes_NE = pd.read_pickle(\"pickles/df_censo_2017_docentes_NE\")\n",
    "#df_censo_2017_docentes_CO = pd.read_pickle(\"pickles/df_censo_2017_docentes_CO\")"
   ]
  },
  {
   "cell_type": "code",
   "execution_count": 10,
   "metadata": {
    "collapsed": true
   },
   "outputs": [],
   "source": [
    "# Concatenando bases de docentes\n",
    "#df_censo_2017_docentes = pd.concat([df_censo_2017_docentes_SU, df_censo_2017_docentes_SE, df_censo_2017_docentes_NO, df_censo_2017_docentes_NE, df_censo_2017_docentes_CO])\n",
    "#df_censo_2017_docentes = pd.concat([df_censo_2017_docentes_SU, df_censo_2017_docentes_NO, df_censo_2017_docentes_CO])\n",
    "df_censo_2017_docentes = pd.concat([df_censo_2017_docentes, df_censo_2017_docentes_NE])\n",
    "\n",
    "#del(df_censo_2017_docentes_SU)\n",
    "#del(df_censo_2017_docentes_SE)\n",
    "#del(df_censo_2017_docentes_NO)\n",
    "del(df_censo_2017_docentes_NE)\n",
    "#del(df_censo_2017_docentes_CO)"
   ]
  },
  {
   "cell_type": "code",
   "execution_count": 11,
   "metadata": {},
   "outputs": [
    {
     "data": {
      "text/plain": [
       "5780908"
      ]
     },
     "execution_count": 11,
     "metadata": {},
     "output_type": "execute_result"
    }
   ],
   "source": [
    "len(df_censo_2017_docentes)"
   ]
  },
  {
   "cell_type": "code",
   "execution_count": 34,
   "metadata": {},
   "outputs": [
    {
     "ename": "OSError",
     "evalue": "[Errno 22] Invalid argument",
     "output_type": "error",
     "traceback": [
      "\u001b[0;31m---------------------------------------------------------------------------\u001b[0m",
      "\u001b[0;31mOSError\u001b[0m                                   Traceback (most recent call last)",
      "\u001b[0;32m<ipython-input-34-b3a94d129125>\u001b[0m in \u001b[0;36m<module>\u001b[0;34m()\u001b[0m\n\u001b[1;32m      1\u001b[0m \u001b[0;31m# Criando pickle com dados base de docentes\u001b[0m\u001b[0;34m\u001b[0m\u001b[0;34m\u001b[0m\u001b[0m\n\u001b[0;32m----> 2\u001b[0;31m \u001b[0mdf_censo_2017_docentes\u001b[0m\u001b[0;34m.\u001b[0m\u001b[0mto_pickle\u001b[0m\u001b[0;34m(\u001b[0m\u001b[0;34m'pickles/df_censo_2017_docentes'\u001b[0m\u001b[0;34m)\u001b[0m\u001b[0;34m\u001b[0m\u001b[0m\n\u001b[0m",
      "\u001b[0;32m/Applications/anaconda/lib/python3.6/site-packages/pandas/core/generic.py\u001b[0m in \u001b[0;36mto_pickle\u001b[0;34m(self, path, compression)\u001b[0m\n\u001b[1;32m   1376\u001b[0m         \"\"\"\n\u001b[1;32m   1377\u001b[0m         \u001b[0;32mfrom\u001b[0m \u001b[0mpandas\u001b[0m\u001b[0;34m.\u001b[0m\u001b[0mio\u001b[0m\u001b[0;34m.\u001b[0m\u001b[0mpickle\u001b[0m \u001b[0;32mimport\u001b[0m \u001b[0mto_pickle\u001b[0m\u001b[0;34m\u001b[0m\u001b[0m\n\u001b[0;32m-> 1378\u001b[0;31m         \u001b[0;32mreturn\u001b[0m \u001b[0mto_pickle\u001b[0m\u001b[0;34m(\u001b[0m\u001b[0mself\u001b[0m\u001b[0;34m,\u001b[0m \u001b[0mpath\u001b[0m\u001b[0;34m,\u001b[0m \u001b[0mcompression\u001b[0m\u001b[0;34m=\u001b[0m\u001b[0mcompression\u001b[0m\u001b[0;34m)\u001b[0m\u001b[0;34m\u001b[0m\u001b[0m\n\u001b[0m\u001b[1;32m   1379\u001b[0m \u001b[0;34m\u001b[0m\u001b[0m\n\u001b[1;32m   1380\u001b[0m     \u001b[0;32mdef\u001b[0m \u001b[0mto_clipboard\u001b[0m\u001b[0;34m(\u001b[0m\u001b[0mself\u001b[0m\u001b[0;34m,\u001b[0m \u001b[0mexcel\u001b[0m\u001b[0;34m=\u001b[0m\u001b[0;32mNone\u001b[0m\u001b[0;34m,\u001b[0m \u001b[0msep\u001b[0m\u001b[0;34m=\u001b[0m\u001b[0;32mNone\u001b[0m\u001b[0;34m,\u001b[0m \u001b[0;34m**\u001b[0m\u001b[0mkwargs\u001b[0m\u001b[0;34m)\u001b[0m\u001b[0;34m:\u001b[0m\u001b[0;34m\u001b[0m\u001b[0m\n",
      "\u001b[0;32m/Applications/anaconda/lib/python3.6/site-packages/pandas/io/pickle.py\u001b[0m in \u001b[0;36mto_pickle\u001b[0;34m(obj, path, compression)\u001b[0m\n\u001b[1;32m     27\u001b[0m                         is_text=False)\n\u001b[1;32m     28\u001b[0m     \u001b[0;32mtry\u001b[0m\u001b[0;34m:\u001b[0m\u001b[0;34m\u001b[0m\u001b[0m\n\u001b[0;32m---> 29\u001b[0;31m         \u001b[0mpkl\u001b[0m\u001b[0;34m.\u001b[0m\u001b[0mdump\u001b[0m\u001b[0;34m(\u001b[0m\u001b[0mobj\u001b[0m\u001b[0;34m,\u001b[0m \u001b[0mf\u001b[0m\u001b[0;34m,\u001b[0m \u001b[0mprotocol\u001b[0m\u001b[0;34m=\u001b[0m\u001b[0mpkl\u001b[0m\u001b[0;34m.\u001b[0m\u001b[0mHIGHEST_PROTOCOL\u001b[0m\u001b[0;34m)\u001b[0m\u001b[0;34m\u001b[0m\u001b[0m\n\u001b[0m\u001b[1;32m     30\u001b[0m     \u001b[0;32mfinally\u001b[0m\u001b[0;34m:\u001b[0m\u001b[0;34m\u001b[0m\u001b[0m\n\u001b[1;32m     31\u001b[0m         \u001b[0;32mfor\u001b[0m \u001b[0m_f\u001b[0m \u001b[0;32min\u001b[0m \u001b[0mfh\u001b[0m\u001b[0;34m:\u001b[0m\u001b[0;34m\u001b[0m\u001b[0m\n",
      "\u001b[0;31mOSError\u001b[0m: [Errno 22] Invalid argument"
     ]
    }
   ],
   "source": [
    "# Criando pickle com dados base de docentes\n",
    "df_censo_2017_docentes.to_pickle('pickles/df_censo_2017_docentes')"
   ]
  },
  {
   "cell_type": "code",
   "execution_count": 12,
   "metadata": {},
   "outputs": [
    {
     "data": {
      "text/plain": [
       "5780908"
      ]
     },
     "execution_count": 12,
     "metadata": {},
     "output_type": "execute_result"
    }
   ],
   "source": [
    "len(df_censo_2017_docentes)"
   ]
  },
  {
   "cell_type": "markdown",
   "metadata": {},
   "source": [
    "#### Convertendo campos para numericos"
   ]
  },
  {
   "cell_type": "code",
   "execution_count": 14,
   "metadata": {},
   "outputs": [
    {
     "name": "stdout",
     "output_type": "stream",
     "text": [
      "IN_LICENCIATURA_1\n",
      "IN_COM_PEDAGOGICA_1\n",
      "IN_LICENCIATURA_2\n",
      "IN_COM_PEDAGOGICA_2\n",
      "IN_LICENCIATURA_3\n",
      "IN_COM_PEDAGOGICA_3\n",
      "TP_ETAPA_ENSINO\n",
      "TP_NORMAL_MAGISTERIO\n",
      "TP_ESCOLARIDADE\n",
      "IN_ESPECIALIZACAO\n",
      "IN_MESTRADO\n",
      "IN_DOUTORADO\n"
     ]
    }
   ],
   "source": [
    "for i in ['IN_LICENCIATURA_1','IN_COM_PEDAGOGICA_1','IN_LICENCIATURA_2','IN_COM_PEDAGOGICA_2','IN_LICENCIATURA_3','IN_COM_PEDAGOGICA_3','TP_ETAPA_ENSINO','TP_NORMAL_MAGISTERIO','TP_ESCOLARIDADE','IN_ESPECIALIZACAO','IN_MESTRADO','IN_DOUTORADO']:\n",
    "    df_censo_2017_docentes[i] = df_censo_2017_docentes[i].map(to_float)\n",
    "    print (i)"
   ]
  },
  {
   "cell_type": "markdown",
   "metadata": {},
   "source": [
    "###### Criando indicador de qualificação do docente e tabela resumo por escola"
   ]
  },
  {
   "cell_type": "code",
   "execution_count": 15,
   "metadata": {
    "collapsed": true
   },
   "outputs": [],
   "source": [
    "# Criando variáveis pro cálculo do indicador de qualificação do docente\n",
    "def dummy_magisterio (x):\n",
    "    if x in [1,2]:\n",
    "        y = 1\n",
    "    else:\n",
    "        y = 0\n",
    "    return y\n",
    "\n",
    "df_censo_2017_docentes['dummy_magisterio'] = df_censo_2017_docentes['TP_NORMAL_MAGISTERIO'].map(dummy_magisterio)\n",
    "\n",
    "def dummy_ensino_medio (x):\n",
    "    if x in [25,26,27,28,29,30,31,32,33,34,35,36,37,38]:\n",
    "        y = 1\n",
    "    else:\n",
    "        y = 0\n",
    "    return y\n",
    "\n",
    "df_censo_2017_docentes['dummy_ensino_medio'] = df_censo_2017_docentes['TP_ETAPA_ENSINO'].map(dummy_ensino_medio)\n"
   ]
  },
  {
   "cell_type": "code",
   "execution_count": 16,
   "metadata": {
    "collapsed": true
   },
   "outputs": [],
   "source": [
    "# Criando o indicador de qualificação do docente\n",
    "df_censo_2017_docentes['in_qualif_docente'] = df_censo_2017_docentes['TP_ESCOLARIDADE'] + df_censo_2017_docentes['dummy_magisterio'] + df_censo_2017_docentes['IN_ESPECIALIZACAO'] + df_censo_2017_docentes['IN_MESTRADO'] + df_censo_2017_docentes['IN_DOUTORADO']"
   ]
  },
  {
   "cell_type": "code",
   "execution_count": 17,
   "metadata": {
    "collapsed": true
   },
   "outputs": [],
   "source": [
    "# Criando o indicador de licenciatura\n",
    "df_censo_2017_docentes['in_licenciatura'] = df_censo_2017_docentes['IN_LICENCIATURA_1'] + df_censo_2017_docentes['IN_COM_PEDAGOGICA_1']*0.5 + df_censo_2017_docentes['IN_LICENCIATURA_2'] + df_censo_2017_docentes['IN_COM_PEDAGOGICA_2']*0.5 + df_censo_2017_docentes['IN_LICENCIATURA_3'] + df_censo_2017_docentes['IN_COM_PEDAGOGICA_3']*0.5 "
   ]
  },
  {
   "cell_type": "code",
   "execution_count": 18,
   "metadata": {
    "collapsed": true
   },
   "outputs": [],
   "source": [
    "# Filtrando para exibir somente professores do ensino médio\n",
    "df_censo_2017_docentes = df_censo_2017_docentes[df_censo_2017_docentes['dummy_ensino_medio'] == 1]"
   ]
  },
  {
   "cell_type": "code",
   "execution_count": 11,
   "metadata": {
    "collapsed": true
   },
   "outputs": [],
   "source": [
    "# Criando pickle com dados base de docentes\n",
    "df_censo_2017_docentes.to_pickle('pickles/df_censo_2017_docentes')"
   ]
  },
  {
   "cell_type": "code",
   "execution_count": 20,
   "metadata": {},
   "outputs": [
    {
     "data": {
      "text/plain": [
       "['NU_ANO_CENSO',\n",
       " 'CO_PESSOA_FISICA',\n",
       " 'NU_DIA',\n",
       " 'NU_MES',\n",
       " 'NU_ANO',\n",
       " 'NU_IDADE_REFERENCIA',\n",
       " 'NU_IDADE',\n",
       " 'TP_SEXO',\n",
       " 'TP_COR_RACA',\n",
       " 'TP_NACIONALIDADE',\n",
       " 'CO_PAIS_ORIGEM',\n",
       " 'CO_UF_NASC',\n",
       " 'CO_MUNICIPIO_NASC',\n",
       " 'CO_UF_END',\n",
       " 'CO_MUNICIPIO_END',\n",
       " 'TP_ZONA_RESIDENCIAL',\n",
       " 'IN_NECESSIDADE_ESPECIAL',\n",
       " 'IN_CEGUEIRA',\n",
       " 'IN_BAIXA_VISAO',\n",
       " 'IN_SURDEZ',\n",
       " 'IN_DEF_AUDITIVA',\n",
       " 'IN_SURDOCEGUEIRA',\n",
       " 'IN_DEF_FISICA',\n",
       " 'IN_DEF_INTELECTUAL',\n",
       " 'IN_DEF_MULTIPLA',\n",
       " 'TP_ESCOLARIDADE',\n",
       " 'TP_NORMAL_MAGISTERIO',\n",
       " 'TP_SITUACAO_CURSO_1',\n",
       " 'CO_AREA_CURSO_1',\n",
       " 'CO_CURSO_1',\n",
       " 'IN_LICENCIATURA_1',\n",
       " 'IN_COM_PEDAGOGICA_1',\n",
       " 'NU_ANO_INICIO_1',\n",
       " 'NU_ANO_CONCLUSAO_1',\n",
       " 'TP_TIPO_IES_1',\n",
       " 'CO_IES_1',\n",
       " 'TP_SITUACAO_CURSO_2',\n",
       " 'CO_AREA_CURSO_2',\n",
       " 'CO_CURSO_2',\n",
       " 'IN_LICENCIATURA_2',\n",
       " 'IN_COM_PEDAGOGICA_2',\n",
       " 'NU_ANO_INICIO_2',\n",
       " 'NU_ANO_CONCLUSAO_2',\n",
       " 'TP_TIPO_IES_2',\n",
       " 'CO_IES_2',\n",
       " 'TP_SITUACAO_CURSO_3',\n",
       " 'CO_AREA_CURSO_3',\n",
       " 'CO_CURSO_3',\n",
       " 'IN_LICENCIATURA_3',\n",
       " 'IN_COM_PEDAGOGICA_3',\n",
       " 'NU_ANO_INICIO_3',\n",
       " 'NU_ANO_CONCLUSAO_3',\n",
       " 'TP_TIPO_IES_3',\n",
       " 'CO_IES_3',\n",
       " 'IN_DISC_QUIMICA',\n",
       " 'IN_DISC_FISICA',\n",
       " 'IN_DISC_MATEMATICA',\n",
       " 'IN_DISC_BIOLOGIA',\n",
       " 'IN_DISC_CIENCIAS',\n",
       " 'IN_DISC_LINGUA_PORTUGUESA',\n",
       " 'IN_DISC_LINGUA_INGLES',\n",
       " 'IN_DISC_LINGUA_ESPANHOL',\n",
       " 'IN_DISC_LINGUA_FRANCES',\n",
       " 'IN_DISC_LINGUA_OUTRA',\n",
       " 'IN_DISC_LINGUA_INDIGENA',\n",
       " 'IN_DISC_ARTES',\n",
       " 'IN_DISC_EDUCACAO_FISICA',\n",
       " 'IN_DISC_HISTORIA',\n",
       " 'IN_DISC_GEOGRAFIA',\n",
       " 'IN_DISC_FILOSOFIA',\n",
       " 'IN_DISC_ENSINO_RELIGIOSO',\n",
       " 'IN_DISC_ESTUDOS_SOCIAIS',\n",
       " 'IN_DISC_SOCIOLOGIA',\n",
       " 'IN_DISC_EST_SOCIAIS_SOCIOLOGIA',\n",
       " 'IN_DISC_INFORMATICA_COMPUTACAO',\n",
       " 'IN_DISC_PROFISSIONALIZANTE',\n",
       " 'IN_DISC_ATENDIMENTO_ESPECIAIS',\n",
       " 'IN_DISC_DIVER_SOCIO_CULTURAL',\n",
       " 'IN_DISC_LIBRAS',\n",
       " 'IN_DISC_PEDAGOGICAS',\n",
       " 'IN_DISC_OUTRAS',\n",
       " 'IN_ESPECIALIZACAO',\n",
       " 'IN_MESTRADO',\n",
       " 'IN_DOUTORADO',\n",
       " 'IN_POS_NENHUM',\n",
       " 'IN_ESPECIFICO_CRECHE',\n",
       " 'IN_ESPECIFICO_PRE_ESCOLA',\n",
       " 'IN_ESPECIFICO_ANOS_INICIAIS',\n",
       " 'IN_ESPECIFICO_ANOS_FINAIS',\n",
       " 'IN_ESPECIFICO_ENS_MEDIO',\n",
       " 'IN_ESPECIFICO_EJA',\n",
       " 'IN_ESPECIFICO_ED_ESPECIAL',\n",
       " 'IN_ESPECIFICO_ED_INDIGENA',\n",
       " 'IN_ESPECIFICO_CAMPO',\n",
       " 'IN_ESPECIFICO_AMBIENTAL',\n",
       " 'IN_ESPECIFICO_DIR_HUMANOS',\n",
       " 'IN_ESPECIFICO_DIV_SEXUAL',\n",
       " 'IN_ESPECIFICO_DIR_ADOLESC',\n",
       " 'IN_ESPECIFICO_AFRO',\n",
       " 'IN_ESPECIFICO_OUTROS',\n",
       " 'IN_ESPECIFICO_NENHUM',\n",
       " 'TP_TIPO_DOCENTE',\n",
       " 'TP_TIPO_CONTRATACAO',\n",
       " 'ID_TURMA',\n",
       " 'TP_TIPO_TURMA',\n",
       " 'TP_MEDIACAO_DIDATICO_PEDAGO',\n",
       " 'IN_ESPECIAL_EXCLUSIVA',\n",
       " 'IN_REGULAR',\n",
       " 'IN_EJA',\n",
       " 'IN_PROFISSIONALIZANTE',\n",
       " 'TP_ETAPA_ENSINO',\n",
       " 'CO_CURSO_EDUC_PROFISSIONAL',\n",
       " 'CO_REGIAO',\n",
       " 'CO_MESORREGIAO',\n",
       " 'CO_MICRORREGIAO',\n",
       " 'CO_ENTIDADE',\n",
       " 'CO_UF',\n",
       " 'CO_MUNICIPIO',\n",
       " 'CO_DISTRITO',\n",
       " 'TP_DEPENDENCIA',\n",
       " 'TP_LOCALIZACAO',\n",
       " 'TP_CATEGORIA_ESCOLA_PRIVADA',\n",
       " 'IN_CONVENIADA_PP',\n",
       " 'TP_CONVENIO_PODER_PUBLICO',\n",
       " 'IN_MANT_ESCOLA_PRIVADA_EMP',\n",
       " 'IN_MANT_ESCOLA_PRIVADA_ONG',\n",
       " 'IN_MANT_ESCOLA_PRIVADA_SIND',\n",
       " 'IN_MANT_ESCOLA_PRIVADA_SIST_S',\n",
       " 'IN_MANT_ESCOLA_PRIVADA_S_FINS',\n",
       " 'TP_REGULAMENTACAO',\n",
       " 'TP_LOCALIZACAO_DIFERENCIADA',\n",
       " 'IN_EDUCACAO_INDIGENA\\n',\n",
       " 'regiao',\n",
       " 'dummy_magisterio',\n",
       " 'dummy_ensino_medio',\n",
       " 'in_qualif_docente',\n",
       " 'in_licenciatura']"
      ]
     },
     "execution_count": 20,
     "metadata": {},
     "output_type": "execute_result"
    }
   ],
   "source": [
    "list(df_censo_2017_docentes)"
   ]
  },
  {
   "cell_type": "code",
   "execution_count": 23,
   "metadata": {},
   "outputs": [],
   "source": [
    "# Eliminando linhas repetidas (mesmo professor em turmas diferentes)\n",
    "df_censo_2017_docentes_resumo = df_censo_2017_docentes[['CO_PESSOA_FISICA', 'CO_ENTIDADE', 'CO_UF', 'in_qualif_docente','in_licenciatura','dummy_ensino_medio']].drop_duplicates()"
   ]
  },
  {
   "cell_type": "code",
   "execution_count": 24,
   "metadata": {},
   "outputs": [
    {
     "data": {
      "text/plain": [
       "605941"
      ]
     },
     "execution_count": 24,
     "metadata": {},
     "output_type": "execute_result"
    }
   ],
   "source": [
    "len(df_censo_2017_docentes_resumo)"
   ]
  },
  {
   "cell_type": "code",
   "execution_count": 25,
   "metadata": {
    "collapsed": true
   },
   "outputs": [],
   "source": [
    "# Criando tabela agregada por escola\n",
    "df_censo_2017_docentes_agg = df_censo_2017_docentes_resumo.groupby(['CO_ENTIDADE', 'CO_UF']).agg({'in_qualif_docente': ['mean', 'median'], 'in_licenciatura': ['mean', 'median'], 'CO_PESSOA_FISICA': ['count']}).reset_index()"
   ]
  },
  {
   "cell_type": "code",
   "execution_count": 26,
   "metadata": {},
   "outputs": [
    {
     "data": {
      "text/plain": [
       "[('CO_ENTIDADE', ''),\n",
       " ('CO_UF', ''),\n",
       " ('in_qualif_docente', 'mean'),\n",
       " ('in_qualif_docente', 'median'),\n",
       " ('in_licenciatura', 'mean'),\n",
       " ('in_licenciatura', 'median'),\n",
       " ('CO_PESSOA_FISICA', 'count')]"
      ]
     },
     "execution_count": 26,
     "metadata": {},
     "output_type": "execute_result"
    }
   ],
   "source": [
    "list(df_censo_2017_docentes_agg)"
   ]
  },
  {
   "cell_type": "code",
   "execution_count": 27,
   "metadata": {
    "collapsed": true
   },
   "outputs": [],
   "source": [
    "# Ajustando nomenclatura das colunas\n",
    "df_censo_2017_docentes_agg.columns = ['CO_ENTIDADE','CO_UF', 'in_qualif_docente_media','in_qualif_docente_mediana','in_licenciatura_media','in_licenciatura_mediana','num_docentes']"
   ]
  },
  {
   "cell_type": "code",
   "execution_count": 28,
   "metadata": {
    "collapsed": true
   },
   "outputs": [],
   "source": [
    "# Criando pickle da tabela resumida\n",
    "df_censo_2017_docentes_agg.to_pickle('pickles/df_censo_2017_docentes_agg_escola')\n",
    "# Para ler o pickle\n",
    "#df_censo_2017_docentes_agg = pd.read_pickle(\"pickles/df_censo_2017_docentes_agg_escola\")"
   ]
  },
  {
   "cell_type": "code",
   "execution_count": 29,
   "metadata": {},
   "outputs": [
    {
     "data": {
      "text/plain": [
       "26743"
      ]
     },
     "execution_count": 29,
     "metadata": {},
     "output_type": "execute_result"
    }
   ],
   "source": [
    "len(df_censo_2017_docentes_agg)"
   ]
  },
  {
   "cell_type": "code",
   "execution_count": 30,
   "metadata": {},
   "outputs": [
    {
     "data": {
      "text/html": [
       "<div>\n",
       "<style>\n",
       "    .dataframe thead tr:only-child th {\n",
       "        text-align: right;\n",
       "    }\n",
       "\n",
       "    .dataframe thead th {\n",
       "        text-align: left;\n",
       "    }\n",
       "\n",
       "    .dataframe tbody tr th {\n",
       "        vertical-align: top;\n",
       "    }\n",
       "</style>\n",
       "<table border=\"1\" class=\"dataframe\">\n",
       "  <thead>\n",
       "    <tr>\n",
       "      <th></th>\n",
       "      <th>CO_UF</th>\n",
       "      <th>CO_ENTIDADE</th>\n",
       "    </tr>\n",
       "    <tr>\n",
       "      <th></th>\n",
       "      <th></th>\n",
       "      <th>count</th>\n",
       "    </tr>\n",
       "  </thead>\n",
       "  <tbody>\n",
       "    <tr>\n",
       "      <th>0</th>\n",
       "      <td>11</td>\n",
       "      <td>215</td>\n",
       "    </tr>\n",
       "    <tr>\n",
       "      <th>1</th>\n",
       "      <td>12</td>\n",
       "      <td>137</td>\n",
       "    </tr>\n",
       "    <tr>\n",
       "      <th>2</th>\n",
       "      <td>13</td>\n",
       "      <td>351</td>\n",
       "    </tr>\n",
       "    <tr>\n",
       "      <th>3</th>\n",
       "      <td>14</td>\n",
       "      <td>106</td>\n",
       "    </tr>\n",
       "    <tr>\n",
       "      <th>4</th>\n",
       "      <td>15</td>\n",
       "      <td>741</td>\n",
       "    </tr>\n",
       "    <tr>\n",
       "      <th>5</th>\n",
       "      <td>16</td>\n",
       "      <td>118</td>\n",
       "    </tr>\n",
       "    <tr>\n",
       "      <th>6</th>\n",
       "      <td>17</td>\n",
       "      <td>308</td>\n",
       "    </tr>\n",
       "    <tr>\n",
       "      <th>7</th>\n",
       "      <td>21</td>\n",
       "      <td>916</td>\n",
       "    </tr>\n",
       "    <tr>\n",
       "      <th>8</th>\n",
       "      <td>22</td>\n",
       "      <td>609</td>\n",
       "    </tr>\n",
       "    <tr>\n",
       "      <th>9</th>\n",
       "      <td>23</td>\n",
       "      <td>911</td>\n",
       "    </tr>\n",
       "    <tr>\n",
       "      <th>10</th>\n",
       "      <td>24</td>\n",
       "      <td>426</td>\n",
       "    </tr>\n",
       "    <tr>\n",
       "      <th>11</th>\n",
       "      <td>25</td>\n",
       "      <td>551</td>\n",
       "    </tr>\n",
       "    <tr>\n",
       "      <th>12</th>\n",
       "      <td>26</td>\n",
       "      <td>1064</td>\n",
       "    </tr>\n",
       "    <tr>\n",
       "      <th>13</th>\n",
       "      <td>27</td>\n",
       "      <td>364</td>\n",
       "    </tr>\n",
       "    <tr>\n",
       "      <th>14</th>\n",
       "      <td>28</td>\n",
       "      <td>272</td>\n",
       "    </tr>\n",
       "    <tr>\n",
       "      <th>15</th>\n",
       "      <td>29</td>\n",
       "      <td>1519</td>\n",
       "    </tr>\n",
       "    <tr>\n",
       "      <th>16</th>\n",
       "      <td>31</td>\n",
       "      <td>3043</td>\n",
       "    </tr>\n",
       "    <tr>\n",
       "      <th>17</th>\n",
       "      <td>32</td>\n",
       "      <td>422</td>\n",
       "    </tr>\n",
       "    <tr>\n",
       "      <th>18</th>\n",
       "      <td>33</td>\n",
       "      <td>2142</td>\n",
       "    </tr>\n",
       "    <tr>\n",
       "      <th>19</th>\n",
       "      <td>35</td>\n",
       "      <td>6233</td>\n",
       "    </tr>\n",
       "    <tr>\n",
       "      <th>20</th>\n",
       "      <td>41</td>\n",
       "      <td>1894</td>\n",
       "    </tr>\n",
       "    <tr>\n",
       "      <th>21</th>\n",
       "      <td>42</td>\n",
       "      <td>842</td>\n",
       "    </tr>\n",
       "    <tr>\n",
       "      <th>22</th>\n",
       "      <td>43</td>\n",
       "      <td>1463</td>\n",
       "    </tr>\n",
       "    <tr>\n",
       "      <th>23</th>\n",
       "      <td>50</td>\n",
       "      <td>395</td>\n",
       "    </tr>\n",
       "    <tr>\n",
       "      <th>24</th>\n",
       "      <td>51</td>\n",
       "      <td>549</td>\n",
       "    </tr>\n",
       "    <tr>\n",
       "      <th>25</th>\n",
       "      <td>52</td>\n",
       "      <td>931</td>\n",
       "    </tr>\n",
       "    <tr>\n",
       "      <th>26</th>\n",
       "      <td>53</td>\n",
       "      <td>221</td>\n",
       "    </tr>\n",
       "  </tbody>\n",
       "</table>\n",
       "</div>"
      ],
      "text/plain": [
       "   CO_UF CO_ENTIDADE\n",
       "               count\n",
       "0     11         215\n",
       "1     12         137\n",
       "2     13         351\n",
       "3     14         106\n",
       "4     15         741\n",
       "5     16         118\n",
       "6     17         308\n",
       "7     21         916\n",
       "8     22         609\n",
       "9     23         911\n",
       "10    24         426\n",
       "11    25         551\n",
       "12    26        1064\n",
       "13    27         364\n",
       "14    28         272\n",
       "15    29        1519\n",
       "16    31        3043\n",
       "17    32         422\n",
       "18    33        2142\n",
       "19    35        6233\n",
       "20    41        1894\n",
       "21    42         842\n",
       "22    43        1463\n",
       "23    50         395\n",
       "24    51         549\n",
       "25    52         931\n",
       "26    53         221"
      ]
     },
     "execution_count": 30,
     "metadata": {},
     "output_type": "execute_result"
    }
   ],
   "source": [
    "#df_censo_2017_docentes_agg.head()\n",
    "df_censo_2017_docentes_agg.groupby(['CO_UF']).agg({'CO_ENTIDADE': ['count']}).reset_index()"
   ]
  },
  {
   "cell_type": "code",
   "execution_count": null,
   "metadata": {
    "collapsed": true
   },
   "outputs": [],
   "source": []
  }
 ],
 "metadata": {
  "kernelspec": {
   "display_name": "Python 3",
   "language": "python",
   "name": "python3"
  },
  "language_info": {
   "codemirror_mode": {
    "name": "ipython",
    "version": 3
   },
   "file_extension": ".py",
   "mimetype": "text/x-python",
   "name": "python",
   "nbconvert_exporter": "python",
   "pygments_lexer": "ipython3",
   "version": "3.6.1"
  }
 },
 "nbformat": 4,
 "nbformat_minor": 2
}
