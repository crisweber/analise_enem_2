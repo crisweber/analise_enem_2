{
 "cells": [
  {
   "cell_type": "markdown",
   "metadata": {},
   "source": [
    "#### Carregando tabela dos microdados do Enem 2017."
   ]
  },
  {
   "cell_type": "code",
   "execution_count": 1,
   "metadata": {
    "collapsed": true
   },
   "outputs": [],
   "source": [
    "import pandas as pd"
   ]
  },
  {
   "cell_type": "code",
   "execution_count": 2,
   "metadata": {
    "scrolled": true
   },
   "outputs": [
    {
     "name": "stdout",
     "output_type": "stream",
     "text": [
      "50000\n",
      "100000\n",
      "150000\n",
      "200000\n",
      "250000\n",
      "300000\n",
      "350000\n",
      "400000\n",
      "450000\n",
      "500000\n",
      "550000\n",
      "600000\n",
      "650000\n",
      "700000\n",
      "750000\n",
      "800000\n",
      "850000\n",
      "900000\n",
      "950000\n",
      "1000000\n",
      "1050000\n",
      "1100000\n",
      "1150000\n",
      "1200000\n",
      "1250000\n",
      "1300000\n",
      "1350000\n",
      "1400000\n",
      "1450000\n",
      "1500000\n",
      "1550000\n",
      "1600000\n",
      "1650000\n",
      "1700000\n",
      "1750000\n",
      "1800000\n",
      "1850000\n",
      "1900000\n",
      "1950000\n",
      "2000000\n",
      "2050000\n",
      "2100000\n",
      "2150000\n",
      "2200000\n",
      "2250000\n",
      "2300000\n",
      "2350000\n",
      "2400000\n",
      "2450000\n",
      "2500000\n",
      "2550000\n",
      "2600000\n",
      "2650000\n",
      "2700000\n",
      "2750000\n",
      "2800000\n",
      "2850000\n",
      "2900000\n",
      "2950000\n",
      "3000000\n",
      "3050000\n",
      "3100000\n",
      "3150000\n",
      "3200000\n",
      "3250000\n",
      "3300000\n",
      "3350000\n",
      "3400000\n",
      "3450000\n",
      "3500000\n",
      "3550000\n",
      "3600000\n",
      "3650000\n",
      "3700000\n",
      "3750000\n",
      "3800000\n",
      "3850000\n",
      "3900000\n",
      "3950000\n",
      "4000000\n",
      "4050000\n",
      "4100000\n",
      "4150000\n",
      "4200000\n",
      "4250000\n",
      "4300000\n",
      "4350000\n",
      "4400000\n",
      "4450000\n",
      "4500000\n",
      "4550000\n",
      "4600000\n",
      "4650000\n",
      "4700000\n",
      "4750000\n",
      "4800000\n",
      "4850000\n",
      "4900000\n",
      "4950000\n",
      "5000000\n",
      "5050000\n",
      "5100000\n",
      "5150000\n",
      "5200000\n",
      "5250000\n",
      "5300000\n",
      "5350000\n",
      "5400000\n",
      "5450000\n",
      "5500000\n",
      "5550000\n",
      "5600000\n",
      "5650000\n",
      "5700000\n",
      "5750000\n",
      "5800000\n",
      "5850000\n",
      "5900000\n",
      "5950000\n",
      "6000000\n",
      "6050000\n",
      "6100000\n",
      "6150000\n",
      "6200000\n",
      "6250000\n",
      "6300000\n",
      "6350000\n",
      "6400000\n",
      "6450000\n",
      "6500000\n",
      "6550000\n",
      "6600000\n",
      "6650000\n",
      "6700000\n"
     ]
    }
   ],
   "source": [
    "lista_enem_2017 = []\n",
    "filepath = 'planilhas/enem/MICRODADOS_ENEM_2017.csv'  \n",
    "with open(filepath, encoding = \"ISO-8859-1\") as fp: \n",
    "    for cnt, line in enumerate(fp):\n",
    "        if cnt == 0:\n",
    "            colunas = line.split(\";\")\n",
    "        else:\n",
    "            if line.split(\";\")[18] == \"1\":\n",
    "                lista_enem_2017.append(line.split(\";\"))\n",
    "            if cnt % 50000 == 0:\n",
    "                print(cnt)\n",
    "            "
   ]
  },
  {
   "cell_type": "code",
   "execution_count": 3,
   "metadata": {
    "collapsed": true
   },
   "outputs": [],
   "source": [
    "df_enem_microdados_2017 = pd.DataFrame(lista_enem_2017,columns=colunas)"
   ]
  },
  {
   "cell_type": "code",
   "execution_count": 4,
   "metadata": {
    "collapsed": true
   },
   "outputs": [],
   "source": [
    "# Gravando pickle\n",
    "df_enem_microdados_2017.to_pickle(\"pickles/df_enem_microdados_2017_pickle\")"
   ]
  },
  {
   "cell_type": "code",
   "execution_count": null,
   "metadata": {
    "collapsed": true
   },
   "outputs": [],
   "source": []
  }
 ],
 "metadata": {
  "kernelspec": {
   "display_name": "Python 3",
   "language": "python",
   "name": "python3"
  },
  "language_info": {
   "codemirror_mode": {
    "name": "ipython",
    "version": 3
   },
   "file_extension": ".py",
   "mimetype": "text/x-python",
   "name": "python",
   "nbconvert_exporter": "python",
   "pygments_lexer": "ipython3",
   "version": "3.6.1"
  }
 },
 "nbformat": 4,
 "nbformat_minor": 2
}
